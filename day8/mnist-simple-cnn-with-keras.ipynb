{
 "cells": [
  {
   "cell_type": "markdown",
   "metadata": {
    "_uuid": "9c6ec3e0df502619842fd2d6d824ff3f9b7bbb56"
   },
   "source": [
    "Many thanks to **Yassine Ghouzam**: [Introduction to CNN Keras ](https://www.kaggle.com/yassineghouzam/introduction-to-cnn-keras-0-997-top-6/comments)\n",
    "\n",
    "There is a lot to discover...\n"
   ]
  },
  {
   "cell_type": "code",
   "execution_count": 1,
   "metadata": {
    "_cell_guid": "b1076dfc-b9ad-4769-8c92-a6c4dae69d19",
    "_uuid": "8f2839f25d086af736a60e9eeb907d3b93b6e0e5"
   },
   "outputs": [],
   "source": [
    "import numpy as np\n",
    "import pandas as pd\n",
    "import matplotlib.pyplot as plt\n",
    "%matplotlib inline"
   ]
  },
  {
   "cell_type": "markdown",
   "metadata": {
    "_uuid": "85293979f93f7fef2a515620ae971c5d7c009651"
   },
   "source": [
    "## Data preparation"
   ]
  },
  {
   "cell_type": "code",
   "execution_count": 2,
   "metadata": {
    "_cell_guid": "79c7e3d0-c299-4dcb-8224-4455121ee9b0",
    "_uuid": "d629ff2d2480ee46fbb7e2d37f6b5fab8052498a"
   },
   "outputs": [
    {
     "name": "stderr",
     "output_type": "stream",
     "text": [
      "Using TensorFlow backend.\n"
     ]
    }
   ],
   "source": [
    "from keras.datasets import mnist, fashion_mnist\n",
    "(X_train, y_train), (X_test, y_test) = mnist.load_data()"
   ]
  },
  {
   "cell_type": "markdown",
   "metadata": {
    "_uuid": "254043a2348f5478cc6597765f0031babd7f6ec1"
   },
   "source": [
    "Drop the `label` column first, then reshape the flattened array. \n",
    "\n",
    "The image size is [28, 28], with only 1 channel. We don't need to know the exact number of training examples, just leave the first dimension to -1."
   ]
  },
  {
   "cell_type": "code",
   "execution_count": 22,
   "metadata": {},
   "outputs": [
    {
     "data": {
      "text/plain": [
       "array([5, 0, 4, 1, 9, 2, 1, 3, 1, 4], dtype=uint8)"
      ]
     },
     "execution_count": 22,
     "metadata": {},
     "output_type": "execute_result"
    }
   ],
   "source": [
    "y_train[:10]"
   ]
  },
  {
   "cell_type": "code",
   "execution_count": 17,
   "metadata": {},
   "outputs": [
    {
     "data": {
      "image/png": "[encoded data removed]",
      "text/plain": [
       "<Figure size 864x864 with 20 Axes>"
      ]
     },
     "metadata": {
      "needs_background": "light"
     },
     "output_type": "display_data"
    }
   ],
   "source": [
    "w=28\n",
    "h=28\n",
    "fig=plt.figure(figsize=(12, 12))\n",
    "columns = 5\n",
    "rows = 5\n",
    "c = 1\n",
    "i = 0\n",
    "for img in X_train[:20]:\n",
    "    fig.add_subplot(rows, columns, c)\n",
    "    c += 1\n",
    "    i += 1\n",
    "    plt.imshow(img)\n",
    "plt.show()"
   ]
  },
  {
   "cell_type": "code",
   "execution_count": 19,
   "metadata": {
    "_uuid": "0a9b998f482e4fbbf0a2ea31c9f2e6e8e0928d65"
   },
   "outputs": [
    {
     "name": "stdout",
     "output_type": "stream",
     "text": [
      "\n",
      "MNIST data loaded: train: 60000 test: 10000\n",
      "X_train: (60000, 28, 28)\n",
      "y_train: (60000,)\n",
      "Y_train: (60000, 10)\n"
     ]
    }
   ],
   "source": [
    "from keras.utils import np_utils\n",
    "#(X_train, y_train), (X_test, y_test) = fashion_mnist.load_data()\n",
    "nb_classes = 10\n",
    "\n",
    "X_train = X_train.astype('float32')\n",
    "X_test = X_test.astype('float32')\n",
    "X_train /= 255\n",
    "X_test /= 255\n",
    "\n",
    "# one-hot encoding:\n",
    "Y_train = np_utils.to_categorical(y_train, nb_classes)\n",
    "Y_test = np_utils.to_categorical(y_test, nb_classes)\n",
    "\n",
    "print()\n",
    "print('MNIST data loaded: train:',len(X_train),'test:',len(X_test))\n",
    "print('X_train:', X_train.shape)\n",
    "print('y_train:', y_train.shape)\n",
    "print('Y_train:', Y_train.shape)"
   ]
  },
  {
   "cell_type": "code",
   "execution_count": 23,
   "metadata": {},
   "outputs": [
    {
     "data": {
      "text/plain": [
       "array([[0., 0., 0., 0., 0., 1., 0., 0., 0., 0.],\n",
       "       [1., 0., 0., 0., 0., 0., 0., 0., 0., 0.],\n",
       "       [0., 0., 0., 0., 1., 0., 0., 0., 0., 0.],\n",
       "       [0., 1., 0., 0., 0., 0., 0., 0., 0., 0.],\n",
       "       [0., 0., 0., 0., 0., 0., 0., 0., 0., 1.],\n",
       "       [0., 0., 1., 0., 0., 0., 0., 0., 0., 0.],\n",
       "       [0., 1., 0., 0., 0., 0., 0., 0., 0., 0.],\n",
       "       [0., 0., 0., 1., 0., 0., 0., 0., 0., 0.],\n",
       "       [0., 1., 0., 0., 0., 0., 0., 0., 0., 0.],\n",
       "       [0., 0., 0., 0., 1., 0., 0., 0., 0., 0.]], dtype=float32)"
      ]
     },
     "execution_count": 23,
     "metadata": {},
     "output_type": "execute_result"
    }
   ],
   "source": [
    "Y_train[:10]"
   ]
  },
  {
   "cell_type": "markdown",
   "metadata": {
    "_uuid": "f03e03242d982686e945b2246fe24b0fac89cb7f"
   },
   "source": [
    "Now take the `label` column as y, then convert the integer label to one-hot representation using `to_categorical`."
   ]
  },
  {
   "cell_type": "code",
   "execution_count": 105,
   "metadata": {
    "_uuid": "0a9b998f482e4fbbf0a2ea31c9f2e6e8e0928d65"
   },
   "outputs": [
    {
     "data": {
      "text/plain": [
       "array([0., 0., 0., 0., 0., 1., 0., 0., 0., 0.], dtype=float32)"
      ]
     },
     "execution_count": 105,
     "metadata": {},
     "output_type": "execute_result"
    }
   ],
   "source": [
    "Y_train[0]"
   ]
  },
  {
   "cell_type": "markdown",
   "metadata": {
    "_uuid": "f24b788ab3e4be3738bbd570d4e737fab6811703"
   },
   "source": [
    "Since we're going to use `ImageDataGenerator` to generate augmented image data on the fly, we have to make self-defined validation set, instead of using `modoel.fit(validation_split=...)`."
   ]
  },
  {
   "cell_type": "code",
   "execution_count": 56,
   "metadata": {
    "_uuid": "8e9b360251b6a095db29632cee0d8b6e8c3cfbfd"
   },
   "outputs": [
    {
     "name": "stdout",
     "output_type": "stream",
     "text": [
      "(51442, 28, 28, 1)\n",
      "(2708, 28, 28, 1)\n"
     ]
    }
   ],
   "source": [
    "from sklearn.model_selection import train_test_split\n",
    "\n",
    "X_train, X_val, Y_train, Y_val = train_test_split(X_train, Y_train, test_size = 0.05)\n",
    "print(X_train.shape)\n",
    "print(X_val.shape)"
   ]
  },
  {
   "cell_type": "markdown",
   "metadata": {
    "_uuid": "23e242a17b5561ccd11ea78718991d6fe443a27b"
   },
   "source": [
    "Have a look at the data:"
   ]
  },
  {
   "cell_type": "code",
   "execution_count": 26,
   "metadata": {
    "_uuid": "141adcf12f9491fb4909f998bf9bb80ed222b8c8"
   },
   "outputs": [
    {
     "name": "stdout",
     "output_type": "stream",
     "text": [
      "X_train: (57000, 28, 28, 1)\n",
      "Y_train: [0. 0. 0. 0. 0. 0. 1. 0. 0. 0.]\n",
      "Y_train: (57000, 10)\n",
      "X_test: (3000, 28, 28, 1)\n"
     ]
    }
   ],
   "source": [
    "# input image dimensions\n",
    "from keras import backend as K\n",
    "img_rows, img_cols = 28, 28\n",
    "\n",
    "if K.image_dim_ordering() == 'th':\n",
    "    X_train = X_train.reshape(X_train.shape[0], 1, img_rows, img_cols)\n",
    "    X_test = X_test.reshape(X_test.shape[0], 1, img_rows, img_cols)\n",
    "    input_shape = (1, img_rows, img_cols)\n",
    "else:\n",
    "    X_train = X_train.reshape(X_train.shape[0], img_rows, img_cols, 1)\n",
    "    X_val = X_val.reshape(X_val.shape[0], img_rows, img_cols, 1)\n",
    "    input_shape = (img_rows, img_cols, 1)\n",
    "    \n",
    "print('X_train:', X_train.shape)\n",
    "print(\"Y_train:\", Y_train[0])\n",
    "print(\"Y_train:\", Y_train.shape)\n",
    "print('X_test:', X_val.shape)"
   ]
  },
  {
   "cell_type": "markdown",
   "metadata": {
    "_uuid": "635eb293a8be21063ba5b9ea5158be01f85b1d1a"
   },
   "source": [
    "## Building CNN model with keras"
   ]
  },
  {
   "cell_type": "code",
   "execution_count": 27,
   "metadata": {
    "_uuid": "9ff2529d41a3b56113c71f865572218196b5b627"
   },
   "outputs": [
    {
     "name": "stdout",
     "output_type": "stream",
     "text": [
      "WARNING:tensorflow:From c:\\users\\faizan\\anaconda3\\envs\\python361\\lib\\site-packages\\tensorflow\\python\\framework\\op_def_library.py:263: colocate_with (from tensorflow.python.framework.ops) is deprecated and will be removed in a future version.\n",
      "Instructions for updating:\n",
      "Colocations handled automatically by placer.\n",
      "WARNING:tensorflow:From c:\\users\\faizan\\anaconda3\\envs\\python361\\lib\\site-packages\\keras\\backend\\tensorflow_backend.py:3445: calling dropout (from tensorflow.python.ops.nn_ops) with keep_prob is deprecated and will be removed in a future version.\n",
      "Instructions for updating:\n",
      "Please use `rate` instead of `keep_prob`. Rate should be set to `rate = 1 - keep_prob`.\n"
     ]
    }
   ],
   "source": [
    "from keras import Sequential\n",
    "from keras.layers import Conv2D, MaxPool2D, Dense, Dropout, BatchNormalization, Flatten\n",
    "\n",
    "model = Sequential()\n",
    "\n",
    "model.add(Conv2D(filters=64, kernel_size=(5, 5), strides=(1, 1), padding='same', \\\n",
    "                 input_shape=(28, 28, 1), name='conv2d_1'))\n",
    "\n",
    "model.add(MaxPool2D(pool_size=(2, 2), padding='same', name='maxpool_1'))\n",
    "\n",
    "model.add(Conv2D(filters=128, kernel_size=(5, 5), strides=(1, 1), padding='same', name='conv2d_2'))\n",
    "\n",
    "model.add(MaxPool2D(pool_size=(2, 2), padding='same', name='maxpool_2'))\n",
    "\n",
    "model.add(Flatten(name='flatten_1'))\n",
    "\n",
    "model.add(Dense(256, activation='relu', name='dense_1'))\n",
    "model.add(Dropout(0.4, name='dropout_1'))\n",
    "model.add(BatchNormalization())\n",
    "\n",
    "model.add(Dense(10, activation='softmax', name='dense_2'))"
   ]
  },
  {
   "cell_type": "code",
   "execution_count": 28,
   "metadata": {
    "_uuid": "8094bc269ff2e07acc8098de46af9464ac7e60b7"
   },
   "outputs": [
    {
     "name": "stdout",
     "output_type": "stream",
     "text": [
      "_________________________________________________________________\n",
      "Layer (type)                 Output Shape              Param #   \n",
      "=================================================================\n",
      "conv2d_1 (Conv2D)            (None, 28, 28, 64)        1664      \n",
      "_________________________________________________________________\n",
      "maxpool_1 (MaxPooling2D)     (None, 14, 14, 64)        0         \n",
      "_________________________________________________________________\n",
      "conv2d_2 (Conv2D)            (None, 14, 14, 128)       204928    \n",
      "_________________________________________________________________\n",
      "maxpool_2 (MaxPooling2D)     (None, 7, 7, 128)         0         \n",
      "_________________________________________________________________\n",
      "flatten_1 (Flatten)          (None, 6272)              0         \n",
      "_________________________________________________________________\n",
      "dense_1 (Dense)              (None, 256)               1605888   \n",
      "_________________________________________________________________\n",
      "dropout_1 (Dropout)          (None, 256)               0         \n",
      "_________________________________________________________________\n",
      "batch_normalization_1 (Batch (None, 256)               1024      \n",
      "_________________________________________________________________\n",
      "dense_2 (Dense)              (None, 10)                2570      \n",
      "=================================================================\n",
      "Total params: 1,816,074\n",
      "Trainable params: 1,815,562\n",
      "Non-trainable params: 512\n",
      "_________________________________________________________________\n"
     ]
    }
   ],
   "source": [
    "model.compile(optimizer='adam', loss='categorical_crossentropy', metrics=['accuracy'])\n",
    "model.summary()"
   ]
  },
  {
   "cell_type": "markdown",
   "metadata": {
    "_uuid": "5cee25517feb6dc8f3b6d0bd4a73b8d6c66da86a"
   },
   "source": [
    "Use `ImageDataGenerator` to generate augmented image data on the fly. "
   ]
  },
  {
   "cell_type": "code",
   "execution_count": 110,
   "metadata": {
    "_uuid": "2e6500a5e32ed1b10550576f80b7022ff8845dee"
   },
   "outputs": [],
   "source": [
    "from keras.preprocessing.image import ImageDataGenerator\n",
    "datagen = ImageDataGenerator(\n",
    "        rescale=1/255, # dividing all pixel value by 255, to make sure our input value is in (0,1)\n",
    "        rotation_range=10,  # randomly rotate images in the range (degrees, 0 to 180)\n",
    "        zoom_range = 0.1, # Randomly zoom image \n",
    "        width_shift_range=0.1,  # randomly shift images horizontally (fraction of total width)\n",
    "        height_shift_range=0.1,  # randomly shift images vertically (fraction of total height)\n",
    ")"
   ]
  },
  {
   "cell_type": "markdown",
   "metadata": {
    "_uuid": "296c99d3efe92ebc2cd60e915fdce698c377b2b8"
   },
   "source": [
    "Fit the model."
   ]
  },
  {
   "cell_type": "code",
   "execution_count": 33,
   "metadata": {},
   "outputs": [],
   "source": [
    "import keras\n",
    "tbCallBack = keras.callbacks.TensorBoard(log_dir='./Graph', write_graph=True)"
   ]
  },
  {
   "cell_type": "code",
   "execution_count": 34,
   "metadata": {
    "_uuid": "8fdcbc0ddfb2132cc0bc038bc1553f04214875fa"
   },
   "outputs": [
    {
     "name": "stdout",
     "output_type": "stream",
     "text": [
      "Epoch 1/2\n",
      "57000/57000 [==============================] - 526s 9ms/step - loss: 0.0554 - acc: 0.9834\n",
      "Epoch 2/2\n",
      "57000/57000 [==============================] - 541s 9ms/step - loss: 0.0452 - acc: 0.9861\n"
     ]
    }
   ],
   "source": [
    "batch_size = 64\n",
    "\n",
    "'''\n",
    "data_flow = datagen.flow(x=X_train, y=Y_train, batch_size=batch_size)\n",
    "history = model.fit_generator(data_flow, steps_per_epoch=len(X_train) // batch_size, \\\n",
    "                              epochs=10, validation_data=(X_val, Y_val))\n",
    "'''\n",
    "history = model.fit(X_train, Y_train, epochs=2, batch_size=batch_size, validation_split=0.5, callbacks=[tbCallBack])"
   ]
  },
  {
   "cell_type": "markdown",
   "metadata": {
    "_uuid": "fa9834628379840dab21ce918d9469dc30b9fb17"
   },
   "source": [
    "## Predicting & Submission"
   ]
  },
  {
   "cell_type": "code",
   "execution_count": 35,
   "metadata": {
    "_uuid": "9d43e3cf5b127533ad9d787ada568d9c28d1aa95"
   },
   "outputs": [
    {
     "name": "stdout",
     "output_type": "stream",
     "text": [
      "[0, 1]\n"
     ]
    },
    {
     "data": {
      "image/png": "[encoded data removed]",
      "text/plain": [
       "<Figure size 360x216 with 1 Axes>"
      ]
     },
     "metadata": {
      "needs_background": "light"
     },
     "output_type": "display_data"
    },
    {
     "data": {
      "image/png": "[encoded data removed]",
      "text/plain": [
       "<Figure size 360x216 with 1 Axes>"
      ]
     },
     "metadata": {
      "needs_background": "light"
     },
     "output_type": "display_data"
    }
   ],
   "source": [
    "print(history.epoch)\n",
    "plt.figure(figsize=(5,3))\n",
    "plt.plot(history.epoch,history.history['loss'])\n",
    "plt.title('loss')\n",
    "\n",
    "plt.figure(figsize=(5,3))\n",
    "plt.plot(history.epoch,history.history['acc'])\n",
    "plt.title('accuracy');"
   ]
  },
  {
   "cell_type": "code",
   "execution_count": 36,
   "metadata": {
    "_uuid": "164228acd31a00b3dbbe16b1ee965d1337742536",
    "scrolled": false
   },
   "outputs": [
    {
     "name": "stdout",
     "output_type": "stream",
     "text": [
      "3000/3000 [==============================] - 9s 3ms/step\n",
      "[[5.7487051e-09 9.9999964e-01 6.5882177e-10 ... 3.1205997e-07\n",
      "  2.3315497e-10 4.6178378e-10]\n",
      " [8.3612148e-09 3.1714521e-06 1.4909076e-04 ... 2.0997764e-05\n",
      "  1.8148763e-06 3.8860594e-06]\n",
      " [4.0883243e-09 3.4135363e-07 1.6675616e-06 ... 5.3109038e-06\n",
      "  4.3115065e-07 3.6613015e-03]\n",
      " ...\n",
      " [9.9996269e-01 8.9859832e-08 5.5501229e-08 ... 1.5602333e-06\n",
      "  3.6672581e-09 3.2884458e-08]\n",
      " [1.8918360e-08 9.9999964e-01 4.9784760e-10 ... 2.9731950e-08\n",
      "  2.2223523e-08 1.2506760e-07]\n",
      " [9.7219655e-09 4.0966131e-07 3.2918359e-04 ... 2.4358947e-04\n",
      "  1.0684662e-06 6.1307389e-08]]\n"
     ]
    }
   ],
   "source": [
    "y_test = model.predict(X_val, verbose=1)\n",
    "print(y_test)"
   ]
  },
  {
   "cell_type": "markdown",
   "metadata": {
    "_uuid": "0721a4f932e3acce0c5ae7d9e3e04ec33cbf5ea5"
   },
   "source": [
    "Convert the one hot representation back to integer representation."
   ]
  },
  {
   "cell_type": "code",
   "execution_count": 57,
   "metadata": {
    "_uuid": "34c318c7c61be11e9a7ab8ea83b35a367c9f5df6"
   },
   "outputs": [],
   "source": [
    "y_test = np.argmax(y_test, axis=-1)\n",
    "model.save(\"mnist.model\")"
   ]
  },
  {
   "cell_type": "markdown",
   "metadata": {
    "_uuid": "dee0a157c39a510dae71b30efc9ab549ca265ab8"
   },
   "source": [
    "Submission."
   ]
  },
  {
   "cell_type": "code",
   "execution_count": 119,
   "metadata": {
    "_uuid": "4b7fe0a125a51f6ac5ac21dfa1f10dd0958d805e"
   },
   "outputs": [],
   "source": [
    "y_test = pd.DataFrame(y_test, index=range(1, len(y_test)+1), columns=['Label'])"
   ]
  },
  {
   "cell_type": "code",
   "execution_count": 120,
   "metadata": {
    "_uuid": "2396766ed4ca694ab663eeda7263c0f154e02b15"
   },
   "outputs": [],
   "source": [
    "y_test.to_csv(\"submission.csv\", index_label='ImageId')"
   ]
  },
  {
   "cell_type": "code",
   "execution_count": null,
   "metadata": {},
   "outputs": [],
   "source": []
  }
 ],
 "metadata": {
  "kernelspec": {
   "display_name": "Python 3",
   "language": "python",
   "name": "python3"
  },
  "language_info": {
   "codemirror_mode": {
    "name": "ipython",
    "version": 3
   },
   "file_extension": ".py",
   "mimetype": "text/x-python",
   "name": "python",
   "nbconvert_exporter": "python",
   "pygments_lexer": "ipython3",
   "version": "3.6.1"
  }
 },
 "nbformat": 4,
 "nbformat_minor": 1
}
