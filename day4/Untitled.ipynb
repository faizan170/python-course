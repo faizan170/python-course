{
 "cells": [
  {
   "cell_type": "code",
   "execution_count": 1,
   "metadata": {},
   "outputs": [],
   "source": [
    "import cv2"
   ]
  },
  {
   "cell_type": "code",
   "execution_count": 10,
   "metadata": {},
   "outputs": [],
   "source": []
  },
  {
   "cell_type": "code",
   "execution_count": 16,
   "metadata": {},
   "outputs": [],
   "source": [
    "cap = cv2.VideoCapture(\"G:\\Imagine Cup - YouTube.MP4\")\n",
    "while True:\n",
    "    _, img = cap.read()\n",
    "    h, w, c = img.shape\n",
    "    \n",
    "    img = cv2.resize(img, (int(w/3), int(h/3)))\n",
    "    rectimage = img.copy()\n",
    "    cv2.imshow(\"img\", img)\n",
    "    img = cv2.Canny(img, 100, 200)\n",
    "    cv2.imshow(\"canny\", img)\n",
    "    img = cv2.rectangle(img, (50, 50), (500, 500), (255, 0,0), 10)\n",
    "    cv2.imshow(\"rect\", img)\n",
    "    sobelx = cv2.Sobel(rectimage, cv2.CV_64F, 1, 0, ksize=5)\n",
    "    sobely = cv2.Sobel(rectimage, cv2.CV_64F, 0, 1, ksize=5)\n",
    "    cv2.imshow(\"sobelx\", sobelx)\n",
    "    cv2.imshow(\"sobely\", sobely)\n",
    "    if cv2.waitKey(1) & 0xFF == ord('q'):\n",
    "        break\n",
    "cap.release()\n",
    "cv2.destroyAllWindows()\n",
    "    \n"
   ]
  },
  {
   "cell_type": "code",
   "execution_count": null,
   "metadata": {},
   "outputs": [],
   "source": []
  },
  {
   "cell_type": "code",
   "execution_count": null,
   "metadata": {},
   "outputs": [],
   "source": []
  }
 ],
 "metadata": {
  "kernelspec": {
   "display_name": "Python 3",
   "language": "python",
   "name": "python3"
  },
  "language_info": {
   "codemirror_mode": {
    "name": "ipython",
    "version": 3
   },
   "file_extension": ".py",
   "mimetype": "text/x-python",
   "name": "python",
   "nbconvert_exporter": "python",
   "pygments_lexer": "ipython3",
   "version": "3.6.0"
  }
 },
 "nbformat": 4,
 "nbformat_minor": 2
}
