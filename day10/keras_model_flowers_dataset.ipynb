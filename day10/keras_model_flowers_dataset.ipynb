{
  "nbformat": 4,
  "nbformat_minor": 0,
  "metadata": {
    "colab": {
      "name": "keras-day10.ipynb",
      "version": "0.3.2",
      "provenance": [],
      "collapsed_sections": []
    },
    "kernelspec": {
      "name": "python3",
      "display_name": "Python 3"
    },
    "accelerator": "GPU"
  },
  "cells": [
    {
      "cell_type": "code",
      "metadata": {
        "id": "Hym7lDCSgCHW",
        "colab_type": "code",
        "outputId": "a800203f-285f-4d98-c319-8cac998be3b5",
        "colab": {
          "base_uri": "https://localhost:8080/",
          "height": 55
        }
      },
      "source": [
        "from google.colab import drive\n",
        "\n",
        "drive.mount('/content/gdrive')\n",
        "root_path = 'gdrive/My Drive/Flower 5 NPY Files/'"
      ],
      "execution_count": 0,
      "outputs": [
        {
          "output_type": "stream",
          "text": [
            "Drive already mounted at /content/gdrive; to attempt to forcibly remount, call drive.mount(\"/content/gdrive\", force_remount=True).\n"
          ],
          "name": "stdout"
        }
      ]
    },
    {
      "cell_type": "code",
      "metadata": {
        "id": "9siYtz-ZgejQ",
        "colab_type": "code",
        "outputId": "5015ab34-520e-4553-f820-4f513d8f2379",
        "colab": {
          "base_uri": "https://localhost:8080/",
          "height": 35
        }
      },
      "source": [
        "import os\n",
        "os.listdir(root_path)"
      ],
      "execution_count": 0,
      "outputs": [
        {
          "output_type": "execute_result",
          "data": {
            "text/plain": [
              "['train_data.npy', 'train_labels.npy']"
            ]
          },
          "metadata": {
            "tags": []
          },
          "execution_count": 22
        }
      ]
    },
    {
      "cell_type": "code",
      "metadata": {
        "id": "Cqq98U0rgu45",
        "colab_type": "code",
        "colab": {}
      },
      "source": [
        "import numpy as np\n",
        "TRAIN_DATA = np.load(os.path.join(root_path,\"train_data.npy\"))\n",
        "TRAIN_LABELS = np.load(os.path.join(root_path, \"train_labels.npy\"))\n",
        "                     "
      ],
      "execution_count": 0,
      "outputs": []
    },
    {
      "cell_type": "code",
      "metadata": {
        "id": "fOPYgoVkhOF8",
        "colab_type": "code",
        "outputId": "2682385d-c5b7-4f6d-dfec-ddb7862cd0cd",
        "colab": {
          "base_uri": "https://localhost:8080/",
          "height": 52
        }
      },
      "source": [
        "print(TRAIN_DATA.shape)\n",
        "print(TRAIN_LABELS.shape)"
      ],
      "execution_count": 0,
      "outputs": [
        {
          "output_type": "stream",
          "text": [
            "(3670, 150, 150, 3)\n",
            "(3670, 5)\n"
          ],
          "name": "stdout"
        }
      ]
    },
    {
      "cell_type": "code",
      "metadata": {
        "id": "P8XnnwPUhTED",
        "colab_type": "code",
        "outputId": "25148ff2-3033-48be-d60d-4afa3a93ea49",
        "colab": {
          "base_uri": "https://localhost:8080/",
          "height": 52
        }
      },
      "source": [
        "X_train = TRAIN_DATA.astype('float32')\n",
        "X_train /= 255\n",
        "\n",
        "print('X_train:', X_train.shape)\n",
        "print('Y_train:', TRAIN_LABELS.shape)"
      ],
      "execution_count": 0,
      "outputs": [
        {
          "output_type": "stream",
          "text": [
            "X_train: (3670, 150, 150, 3)\n",
            "Y_train: (3670, 5)\n"
          ],
          "name": "stdout"
        }
      ]
    },
    {
      "cell_type": "code",
      "metadata": {
        "id": "l070aH-Rhrhv",
        "colab_type": "code",
        "outputId": "a00740eb-990f-44fd-cb0b-8c2425dc823a",
        "colab": {
          "base_uri": "https://localhost:8080/",
          "height": 52
        }
      },
      "source": [
        "\n",
        "from sklearn.model_selection import train_test_split\n",
        "\n",
        "X_train, X_test, Y_train, Y_test = train_test_split(X_train, TRAIN_LABELS, test_size=0.3)\n",
        "print(X_train.shape)\n",
        "print(X_test.shape)"
      ],
      "execution_count": 0,
      "outputs": [
        {
          "output_type": "stream",
          "text": [
            "(2569, 150, 150, 3)\n",
            "(1101, 150, 150, 3)\n"
          ],
          "name": "stdout"
        }
      ]
    },
    {
      "cell_type": "code",
      "metadata": {
        "id": "Or7g3lPyhu6L",
        "colab_type": "code",
        "outputId": "027c2509-e27f-4327-ce87-e0466986e346",
        "colab": {
          "base_uri": "https://localhost:8080/",
          "height": 52
        }
      },
      "source": [
        "X_test, X_val, Y_test, Y_val = train_test_split(X_test, Y_test, test_size=0.5)\n",
        "print(X_test.shape)\n",
        "print(X_val.shape)"
      ],
      "execution_count": 0,
      "outputs": [
        {
          "output_type": "stream",
          "text": [
            "(550, 150, 150, 3)\n",
            "(551, 150, 150, 3)\n"
          ],
          "name": "stdout"
        }
      ]
    },
    {
      "cell_type": "code",
      "metadata": {
        "id": "1GAjQ8huhx5S",
        "colab_type": "code",
        "colab": {}
      },
      "source": [
        "from keras import Sequential, regularizers\n",
        "from keras.layers import Conv2D, MaxPooling2D, Dense, Dropout, BatchNormalization, Flatten\n",
        "\n",
        "model = Sequential()\n",
        "model.add(Conv2D(32, kernel_size = (3, 3), activation='relu', input_shape=(150, 150, 3)))\n",
        "model.add(MaxPooling2D(pool_size=(2,2)))\n",
        "model.add(BatchNormalization())\n",
        "model.add(Conv2D(64, kernel_size=(3,3), activation='relu'))\n",
        "model.add(MaxPooling2D(pool_size=(2,2)))\n",
        "model.add(BatchNormalization())\n",
        "model.add(Conv2D(64, kernel_size=(3,3), activation='relu'))\n",
        "model.add(MaxPooling2D(pool_size=(2,2)))\n",
        "model.add(BatchNormalization())\n",
        "model.add(Conv2D(96, kernel_size=(3,3), activation='relu'))\n",
        "model.add(MaxPooling2D(pool_size=(2,2)))\n",
        "model.add(BatchNormalization())\n",
        "model.add(Dropout(0.4))\n",
        "model.add(Conv2D(32, kernel_size=(3,3), activation='relu'))\n",
        "model.add(MaxPooling2D(pool_size=(2,2)))\n",
        "model.add(BatchNormalization())\n",
        "model.add(Dropout(0.2))\n",
        "model.add(Flatten())\n",
        "model.add(Dense(128, activation='relu', kernel_regularizer=regularizers.l2(0.001)))\n",
        "#model.add(Dropout(0.3))\n",
        "model.add(Dense(5, activation = 'softmax'))"
      ],
      "execution_count": 0,
      "outputs": []
    },
    {
      "cell_type": "code",
      "metadata": {
        "id": "NAb1lbf-h0L1",
        "colab_type": "code",
        "outputId": "a5b1804f-3279-4875-ae74-6a40d4b5c9eb",
        "colab": {
          "base_uri": "https://localhost:8080/",
          "height": 832
        }
      },
      "source": [
        "model.compile(optimizer='adam', loss='categorical_crossentropy', metrics=['accuracy'])\n",
        "model.summary()"
      ],
      "execution_count": 0,
      "outputs": [
        {
          "output_type": "stream",
          "text": [
            "_________________________________________________________________\n",
            "Layer (type)                 Output Shape              Param #   \n",
            "=================================================================\n",
            "conv2d_22 (Conv2D)           (None, 148, 148, 32)      896       \n",
            "_________________________________________________________________\n",
            "max_pooling2d_21 (MaxPooling (None, 74, 74, 32)        0         \n",
            "_________________________________________________________________\n",
            "batch_normalization_27 (Batc (None, 74, 74, 32)        128       \n",
            "_________________________________________________________________\n",
            "conv2d_23 (Conv2D)           (None, 72, 72, 64)        18496     \n",
            "_________________________________________________________________\n",
            "max_pooling2d_22 (MaxPooling (None, 36, 36, 64)        0         \n",
            "_________________________________________________________________\n",
            "batch_normalization_28 (Batc (None, 36, 36, 64)        256       \n",
            "_________________________________________________________________\n",
            "conv2d_24 (Conv2D)           (None, 34, 34, 64)        36928     \n",
            "_________________________________________________________________\n",
            "max_pooling2d_23 (MaxPooling (None, 17, 17, 64)        0         \n",
            "_________________________________________________________________\n",
            "batch_normalization_29 (Batc (None, 17, 17, 64)        256       \n",
            "_________________________________________________________________\n",
            "conv2d_25 (Conv2D)           (None, 15, 15, 96)        55392     \n",
            "_________________________________________________________________\n",
            "max_pooling2d_24 (MaxPooling (None, 7, 7, 96)          0         \n",
            "_________________________________________________________________\n",
            "batch_normalization_30 (Batc (None, 7, 7, 96)          384       \n",
            "_________________________________________________________________\n",
            "dropout_5 (Dropout)          (None, 7, 7, 96)          0         \n",
            "_________________________________________________________________\n",
            "conv2d_26 (Conv2D)           (None, 5, 5, 32)          27680     \n",
            "_________________________________________________________________\n",
            "max_pooling2d_25 (MaxPooling (None, 2, 2, 32)          0         \n",
            "_________________________________________________________________\n",
            "batch_normalization_31 (Batc (None, 2, 2, 32)          128       \n",
            "_________________________________________________________________\n",
            "dropout_6 (Dropout)          (None, 2, 2, 32)          0         \n",
            "_________________________________________________________________\n",
            "flatten_5 (Flatten)          (None, 128)               0         \n",
            "_________________________________________________________________\n",
            "dense_6 (Dense)              (None, 128)               16512     \n",
            "_________________________________________________________________\n",
            "dense_7 (Dense)              (None, 5)                 645       \n",
            "=================================================================\n",
            "Total params: 157,701\n",
            "Trainable params: 157,125\n",
            "Non-trainable params: 576\n",
            "_________________________________________________________________\n"
          ],
          "name": "stdout"
        }
      ]
    },
    {
      "cell_type": "code",
      "metadata": {
        "id": "7CaBTeGPh3TE",
        "colab_type": "code",
        "colab": {}
      },
      "source": [
        "from IPython.display import SVG\n",
        "from keras.utils.vis_utils import model_to_dot"
      ],
      "execution_count": 0,
      "outputs": []
    },
    {
      "cell_type": "code",
      "metadata": {
        "id": "hZfiCLx2iGTo",
        "colab_type": "code",
        "outputId": "8c52be9a-8b60-4246-b899-005f9ee0d13d",
        "colab": {
          "base_uri": "https://localhost:8080/",
          "height": 2295
        }
      },
      "source": [
        "SVG(model_to_dot(model, show_shapes=True).create(prog='dot', format='svg'))"
      ],
      "execution_count": 0,
      "outputs": [
        {
          "output_type": "execute_result",
          "data": {
            "text/plain": [
              "<IPython.core.display.SVG object>"
            ],
            "image/svg+xml": "<svg height=\"1705pt\" viewBox=\"0.00 0.00 469.00 1705.00\" width=\"469pt\" xmlns=\"http://www.w3.org/2000/svg\" xmlns:xlink=\"http://www.w3.org/1999/xlink\">\n<g class=\"graph\" id=\"graph0\" transform=\"scale(1 1) rotate(0) translate(4 1701)\">\n<title>G</title>\n<polygon fill=\"#ffffff\" points=\"-4,4 -4,-1701 465,-1701 465,4 -4,4\" stroke=\"transparent\"/>\n<!-- 139969617105248 -->\n<g class=\"node\" id=\"node1\">\n<title>139969617105248</title>\n<polygon fill=\"none\" points=\"61.5,-1577.5 61.5,-1623.5 399.5,-1623.5 399.5,-1577.5 61.5,-1577.5\" stroke=\"#000000\"/>\n<text fill=\"#000000\" font-family=\"Times,serif\" font-size=\"14.00\" text-anchor=\"middle\" x=\"131.5\" y=\"-1596.8\">conv2d_22: Conv2D</text>\n<polyline fill=\"none\" points=\"201.5,-1577.5 201.5,-1623.5 \" stroke=\"#000000\"/>\n<text fill=\"#000000\" font-family=\"Times,serif\" font-size=\"14.00\" text-anchor=\"middle\" x=\"230.5\" y=\"-1608.3\">input:</text>\n<polyline fill=\"none\" points=\"201.5,-1600.5 259.5,-1600.5 \" stroke=\"#000000\"/>\n<text fill=\"#000000\" font-family=\"Times,serif\" font-size=\"14.00\" text-anchor=\"middle\" x=\"230.5\" y=\"-1585.3\">output:</text>\n<polyline fill=\"none\" points=\"259.5,-1577.5 259.5,-1623.5 \" stroke=\"#000000\"/>\n<text fill=\"#000000\" font-family=\"Times,serif\" font-size=\"14.00\" text-anchor=\"middle\" x=\"329.5\" y=\"-1608.3\">(None, 150, 150, 3)</text>\n<polyline fill=\"none\" points=\"259.5,-1600.5 399.5,-1600.5 \" stroke=\"#000000\"/>\n<text fill=\"#000000\" font-family=\"Times,serif\" font-size=\"14.00\" text-anchor=\"middle\" x=\"329.5\" y=\"-1585.3\">(None, 148, 148, 32)</text>\n</g>\n<!-- 139969617174144 -->\n<g class=\"node\" id=\"node2\">\n<title>139969617174144</title>\n<polygon fill=\"none\" points=\"17,-1494.5 17,-1540.5 444,-1540.5 444,-1494.5 17,-1494.5\" stroke=\"#000000\"/>\n<text fill=\"#000000\" font-family=\"Times,serif\" font-size=\"14.00\" text-anchor=\"middle\" x=\"131.5\" y=\"-1513.8\">max_pooling2d_21: MaxPooling2D</text>\n<polyline fill=\"none\" points=\"246,-1494.5 246,-1540.5 \" stroke=\"#000000\"/>\n<text fill=\"#000000\" font-family=\"Times,serif\" font-size=\"14.00\" text-anchor=\"middle\" x=\"275\" y=\"-1525.3\">input:</text>\n<polyline fill=\"none\" points=\"246,-1517.5 304,-1517.5 \" stroke=\"#000000\"/>\n<text fill=\"#000000\" font-family=\"Times,serif\" font-size=\"14.00\" text-anchor=\"middle\" x=\"275\" y=\"-1502.3\">output:</text>\n<polyline fill=\"none\" points=\"304,-1494.5 304,-1540.5 \" stroke=\"#000000\"/>\n<text fill=\"#000000\" font-family=\"Times,serif\" font-size=\"14.00\" text-anchor=\"middle\" x=\"374\" y=\"-1525.3\">(None, 148, 148, 32)</text>\n<polyline fill=\"none\" points=\"304,-1517.5 444,-1517.5 \" stroke=\"#000000\"/>\n<text fill=\"#000000\" font-family=\"Times,serif\" font-size=\"14.00\" text-anchor=\"middle\" x=\"374\" y=\"-1502.3\">(None, 74, 74, 32)</text>\n</g>\n<!-- 139969617105248&#45;&gt;139969617174144 -->\n<g class=\"edge\" id=\"edge2\">\n<title>139969617105248-&gt;139969617174144</title>\n<path d=\"M230.5,-1577.3799C230.5,-1569.1745 230.5,-1559.7679 230.5,-1550.8786\" fill=\"none\" stroke=\"#000000\"/>\n<polygon fill=\"#000000\" points=\"234.0001,-1550.784 230.5,-1540.784 227.0001,-1550.784 234.0001,-1550.784\" stroke=\"#000000\"/>\n</g>\n<!-- 139969617105584 -->\n<g class=\"node\" id=\"node3\">\n<title>139969617105584</title>\n<polygon fill=\"none\" points=\"0,-1411.5 0,-1457.5 461,-1457.5 461,-1411.5 0,-1411.5\" stroke=\"#000000\"/>\n<text fill=\"#000000\" font-family=\"Times,serif\" font-size=\"14.00\" text-anchor=\"middle\" x=\"139\" y=\"-1430.8\">batch_normalization_27: BatchNormalization</text>\n<polyline fill=\"none\" points=\"278,-1411.5 278,-1457.5 \" stroke=\"#000000\"/>\n<text fill=\"#000000\" font-family=\"Times,serif\" font-size=\"14.00\" text-anchor=\"middle\" x=\"307\" y=\"-1442.3\">input:</text>\n<polyline fill=\"none\" points=\"278,-1434.5 336,-1434.5 \" stroke=\"#000000\"/>\n<text fill=\"#000000\" font-family=\"Times,serif\" font-size=\"14.00\" text-anchor=\"middle\" x=\"307\" y=\"-1419.3\">output:</text>\n<polyline fill=\"none\" points=\"336,-1411.5 336,-1457.5 \" stroke=\"#000000\"/>\n<text fill=\"#000000\" font-family=\"Times,serif\" font-size=\"14.00\" text-anchor=\"middle\" x=\"398.5\" y=\"-1442.3\">(None, 74, 74, 32)</text>\n<polyline fill=\"none\" points=\"336,-1434.5 461,-1434.5 \" stroke=\"#000000\"/>\n<text fill=\"#000000\" font-family=\"Times,serif\" font-size=\"14.00\" text-anchor=\"middle\" x=\"398.5\" y=\"-1419.3\">(None, 74, 74, 32)</text>\n</g>\n<!-- 139969617174144&#45;&gt;139969617105584 -->\n<g class=\"edge\" id=\"edge3\">\n<title>139969617174144-&gt;139969617105584</title>\n<path d=\"M230.5,-1494.3799C230.5,-1486.1745 230.5,-1476.7679 230.5,-1467.8786\" fill=\"none\" stroke=\"#000000\"/>\n<polygon fill=\"#000000\" points=\"234.0001,-1467.784 230.5,-1457.784 227.0001,-1467.784 234.0001,-1467.784\" stroke=\"#000000\"/>\n</g>\n<!-- 139969616457008 -->\n<g class=\"node\" id=\"node4\">\n<title>139969616457008</title>\n<polygon fill=\"none\" points=\"69,-1328.5 69,-1374.5 392,-1374.5 392,-1328.5 69,-1328.5\" stroke=\"#000000\"/>\n<text fill=\"#000000\" font-family=\"Times,serif\" font-size=\"14.00\" text-anchor=\"middle\" x=\"139\" y=\"-1347.8\">conv2d_23: Conv2D</text>\n<polyline fill=\"none\" points=\"209,-1328.5 209,-1374.5 \" stroke=\"#000000\"/>\n<text fill=\"#000000\" font-family=\"Times,serif\" font-size=\"14.00\" text-anchor=\"middle\" x=\"238\" y=\"-1359.3\">input:</text>\n<polyline fill=\"none\" points=\"209,-1351.5 267,-1351.5 \" stroke=\"#000000\"/>\n<text fill=\"#000000\" font-family=\"Times,serif\" font-size=\"14.00\" text-anchor=\"middle\" x=\"238\" y=\"-1336.3\">output:</text>\n<polyline fill=\"none\" points=\"267,-1328.5 267,-1374.5 \" stroke=\"#000000\"/>\n<text fill=\"#000000\" font-family=\"Times,serif\" font-size=\"14.00\" text-anchor=\"middle\" x=\"329.5\" y=\"-1359.3\">(None, 74, 74, 32)</text>\n<polyline fill=\"none\" points=\"267,-1351.5 392,-1351.5 \" stroke=\"#000000\"/>\n<text fill=\"#000000\" font-family=\"Times,serif\" font-size=\"14.00\" text-anchor=\"middle\" x=\"329.5\" y=\"-1336.3\">(None, 72, 72, 64)</text>\n</g>\n<!-- 139969617105584&#45;&gt;139969616457008 -->\n<g class=\"edge\" id=\"edge4\">\n<title>139969617105584-&gt;139969616457008</title>\n<path d=\"M230.5,-1411.3799C230.5,-1403.1745 230.5,-1393.7679 230.5,-1384.8786\" fill=\"none\" stroke=\"#000000\"/>\n<polygon fill=\"#000000\" points=\"234.0001,-1384.784 230.5,-1374.784 227.0001,-1384.784 234.0001,-1384.784\" stroke=\"#000000\"/>\n</g>\n<!-- 139969616267920 -->\n<g class=\"node\" id=\"node5\">\n<title>139969616267920</title>\n<polygon fill=\"none\" points=\"24.5,-1245.5 24.5,-1291.5 436.5,-1291.5 436.5,-1245.5 24.5,-1245.5\" stroke=\"#000000\"/>\n<text fill=\"#000000\" font-family=\"Times,serif\" font-size=\"14.00\" text-anchor=\"middle\" x=\"139\" y=\"-1264.8\">max_pooling2d_22: MaxPooling2D</text>\n<polyline fill=\"none\" points=\"253.5,-1245.5 253.5,-1291.5 \" stroke=\"#000000\"/>\n<text fill=\"#000000\" font-family=\"Times,serif\" font-size=\"14.00\" text-anchor=\"middle\" x=\"282.5\" y=\"-1276.3\">input:</text>\n<polyline fill=\"none\" points=\"253.5,-1268.5 311.5,-1268.5 \" stroke=\"#000000\"/>\n<text fill=\"#000000\" font-family=\"Times,serif\" font-size=\"14.00\" text-anchor=\"middle\" x=\"282.5\" y=\"-1253.3\">output:</text>\n<polyline fill=\"none\" points=\"311.5,-1245.5 311.5,-1291.5 \" stroke=\"#000000\"/>\n<text fill=\"#000000\" font-family=\"Times,serif\" font-size=\"14.00\" text-anchor=\"middle\" x=\"374\" y=\"-1276.3\">(None, 72, 72, 64)</text>\n<polyline fill=\"none\" points=\"311.5,-1268.5 436.5,-1268.5 \" stroke=\"#000000\"/>\n<text fill=\"#000000\" font-family=\"Times,serif\" font-size=\"14.00\" text-anchor=\"middle\" x=\"374\" y=\"-1253.3\">(None, 36, 36, 64)</text>\n</g>\n<!-- 139969616457008&#45;&gt;139969616267920 -->\n<g class=\"edge\" id=\"edge5\">\n<title>139969616457008-&gt;139969616267920</title>\n<path d=\"M230.5,-1328.3799C230.5,-1320.1745 230.5,-1310.7679 230.5,-1301.8786\" fill=\"none\" stroke=\"#000000\"/>\n<polygon fill=\"#000000\" points=\"234.0001,-1301.784 230.5,-1291.784 227.0001,-1301.784 234.0001,-1301.784\" stroke=\"#000000\"/>\n</g>\n<!-- 139969617758808 -->\n<g class=\"node\" id=\"node6\">\n<title>139969617758808</title>\n<polygon fill=\"none\" points=\"0,-1162.5 0,-1208.5 461,-1208.5 461,-1162.5 0,-1162.5\" stroke=\"#000000\"/>\n<text fill=\"#000000\" font-family=\"Times,serif\" font-size=\"14.00\" text-anchor=\"middle\" x=\"139\" y=\"-1181.8\">batch_normalization_28: BatchNormalization</text>\n<polyline fill=\"none\" points=\"278,-1162.5 278,-1208.5 \" stroke=\"#000000\"/>\n<text fill=\"#000000\" font-family=\"Times,serif\" font-size=\"14.00\" text-anchor=\"middle\" x=\"307\" y=\"-1193.3\">input:</text>\n<polyline fill=\"none\" points=\"278,-1185.5 336,-1185.5 \" stroke=\"#000000\"/>\n<text fill=\"#000000\" font-family=\"Times,serif\" font-size=\"14.00\" text-anchor=\"middle\" x=\"307\" y=\"-1170.3\">output:</text>\n<polyline fill=\"none\" points=\"336,-1162.5 336,-1208.5 \" stroke=\"#000000\"/>\n<text fill=\"#000000\" font-family=\"Times,serif\" font-size=\"14.00\" text-anchor=\"middle\" x=\"398.5\" y=\"-1193.3\">(None, 36, 36, 64)</text>\n<polyline fill=\"none\" points=\"336,-1185.5 461,-1185.5 \" stroke=\"#000000\"/>\n<text fill=\"#000000\" font-family=\"Times,serif\" font-size=\"14.00\" text-anchor=\"middle\" x=\"398.5\" y=\"-1170.3\">(None, 36, 36, 64)</text>\n</g>\n<!-- 139969616267920&#45;&gt;139969617758808 -->\n<g class=\"edge\" id=\"edge6\">\n<title>139969616267920-&gt;139969617758808</title>\n<path d=\"M230.5,-1245.3799C230.5,-1237.1745 230.5,-1227.7679 230.5,-1218.8786\" fill=\"none\" stroke=\"#000000\"/>\n<polygon fill=\"#000000\" points=\"234.0001,-1218.784 230.5,-1208.784 227.0001,-1218.784 234.0001,-1218.784\" stroke=\"#000000\"/>\n</g>\n<!-- 139969616326728 -->\n<g class=\"node\" id=\"node7\">\n<title>139969616326728</title>\n<polygon fill=\"none\" points=\"69,-1079.5 69,-1125.5 392,-1125.5 392,-1079.5 69,-1079.5\" stroke=\"#000000\"/>\n<text fill=\"#000000\" font-family=\"Times,serif\" font-size=\"14.00\" text-anchor=\"middle\" x=\"139\" y=\"-1098.8\">conv2d_24: Conv2D</text>\n<polyline fill=\"none\" points=\"209,-1079.5 209,-1125.5 \" stroke=\"#000000\"/>\n<text fill=\"#000000\" font-family=\"Times,serif\" font-size=\"14.00\" text-anchor=\"middle\" x=\"238\" y=\"-1110.3\">input:</text>\n<polyline fill=\"none\" points=\"209,-1102.5 267,-1102.5 \" stroke=\"#000000\"/>\n<text fill=\"#000000\" font-family=\"Times,serif\" font-size=\"14.00\" text-anchor=\"middle\" x=\"238\" y=\"-1087.3\">output:</text>\n<polyline fill=\"none\" points=\"267,-1079.5 267,-1125.5 \" stroke=\"#000000\"/>\n<text fill=\"#000000\" font-family=\"Times,serif\" font-size=\"14.00\" text-anchor=\"middle\" x=\"329.5\" y=\"-1110.3\">(None, 36, 36, 64)</text>\n<polyline fill=\"none\" points=\"267,-1102.5 392,-1102.5 \" stroke=\"#000000\"/>\n<text fill=\"#000000\" font-family=\"Times,serif\" font-size=\"14.00\" text-anchor=\"middle\" x=\"329.5\" y=\"-1087.3\">(None, 34, 34, 64)</text>\n</g>\n<!-- 139969617758808&#45;&gt;139969616326728 -->\n<g class=\"edge\" id=\"edge7\">\n<title>139969617758808-&gt;139969616326728</title>\n<path d=\"M230.5,-1162.3799C230.5,-1154.1745 230.5,-1144.7679 230.5,-1135.8786\" fill=\"none\" stroke=\"#000000\"/>\n<polygon fill=\"#000000\" points=\"234.0001,-1135.784 230.5,-1125.784 227.0001,-1135.784 234.0001,-1135.784\" stroke=\"#000000\"/>\n</g>\n<!-- 139969614106016 -->\n<g class=\"node\" id=\"node8\">\n<title>139969614106016</title>\n<polygon fill=\"none\" points=\"24.5,-996.5 24.5,-1042.5 436.5,-1042.5 436.5,-996.5 24.5,-996.5\" stroke=\"#000000\"/>\n<text fill=\"#000000\" font-family=\"Times,serif\" font-size=\"14.00\" text-anchor=\"middle\" x=\"139\" y=\"-1015.8\">max_pooling2d_23: MaxPooling2D</text>\n<polyline fill=\"none\" points=\"253.5,-996.5 253.5,-1042.5 \" stroke=\"#000000\"/>\n<text fill=\"#000000\" font-family=\"Times,serif\" font-size=\"14.00\" text-anchor=\"middle\" x=\"282.5\" y=\"-1027.3\">input:</text>\n<polyline fill=\"none\" points=\"253.5,-1019.5 311.5,-1019.5 \" stroke=\"#000000\"/>\n<text fill=\"#000000\" font-family=\"Times,serif\" font-size=\"14.00\" text-anchor=\"middle\" x=\"282.5\" y=\"-1004.3\">output:</text>\n<polyline fill=\"none\" points=\"311.5,-996.5 311.5,-1042.5 \" stroke=\"#000000\"/>\n<text fill=\"#000000\" font-family=\"Times,serif\" font-size=\"14.00\" text-anchor=\"middle\" x=\"374\" y=\"-1027.3\">(None, 34, 34, 64)</text>\n<polyline fill=\"none\" points=\"311.5,-1019.5 436.5,-1019.5 \" stroke=\"#000000\"/>\n<text fill=\"#000000\" font-family=\"Times,serif\" font-size=\"14.00\" text-anchor=\"middle\" x=\"374\" y=\"-1004.3\">(None, 17, 17, 64)</text>\n</g>\n<!-- 139969616326728&#45;&gt;139969614106016 -->\n<g class=\"edge\" id=\"edge8\">\n<title>139969616326728-&gt;139969614106016</title>\n<path d=\"M230.5,-1079.3799C230.5,-1071.1745 230.5,-1061.7679 230.5,-1052.8786\" fill=\"none\" stroke=\"#000000\"/>\n<polygon fill=\"#000000\" points=\"234.0001,-1052.784 230.5,-1042.784 227.0001,-1052.784 234.0001,-1052.784\" stroke=\"#000000\"/>\n</g>\n<!-- 139969616266912 -->\n<g class=\"node\" id=\"node9\">\n<title>139969616266912</title>\n<polygon fill=\"none\" points=\"0,-913.5 0,-959.5 461,-959.5 461,-913.5 0,-913.5\" stroke=\"#000000\"/>\n<text fill=\"#000000\" font-family=\"Times,serif\" font-size=\"14.00\" text-anchor=\"middle\" x=\"139\" y=\"-932.8\">batch_normalization_29: BatchNormalization</text>\n<polyline fill=\"none\" points=\"278,-913.5 278,-959.5 \" stroke=\"#000000\"/>\n<text fill=\"#000000\" font-family=\"Times,serif\" font-size=\"14.00\" text-anchor=\"middle\" x=\"307\" y=\"-944.3\">input:</text>\n<polyline fill=\"none\" points=\"278,-936.5 336,-936.5 \" stroke=\"#000000\"/>\n<text fill=\"#000000\" font-family=\"Times,serif\" font-size=\"14.00\" text-anchor=\"middle\" x=\"307\" y=\"-921.3\">output:</text>\n<polyline fill=\"none\" points=\"336,-913.5 336,-959.5 \" stroke=\"#000000\"/>\n<text fill=\"#000000\" font-family=\"Times,serif\" font-size=\"14.00\" text-anchor=\"middle\" x=\"398.5\" y=\"-944.3\">(None, 17, 17, 64)</text>\n<polyline fill=\"none\" points=\"336,-936.5 461,-936.5 \" stroke=\"#000000\"/>\n<text fill=\"#000000\" font-family=\"Times,serif\" font-size=\"14.00\" text-anchor=\"middle\" x=\"398.5\" y=\"-921.3\">(None, 17, 17, 64)</text>\n</g>\n<!-- 139969614106016&#45;&gt;139969616266912 -->\n<g class=\"edge\" id=\"edge9\">\n<title>139969614106016-&gt;139969616266912</title>\n<path d=\"M230.5,-996.3799C230.5,-988.1745 230.5,-978.7679 230.5,-969.8786\" fill=\"none\" stroke=\"#000000\"/>\n<polygon fill=\"#000000\" points=\"234.0001,-969.784 230.5,-959.784 227.0001,-969.784 234.0001,-969.784\" stroke=\"#000000\"/>\n</g>\n<!-- 139969614284504 -->\n<g class=\"node\" id=\"node10\">\n<title>139969614284504</title>\n<polygon fill=\"none\" points=\"69,-830.5 69,-876.5 392,-876.5 392,-830.5 69,-830.5\" stroke=\"#000000\"/>\n<text fill=\"#000000\" font-family=\"Times,serif\" font-size=\"14.00\" text-anchor=\"middle\" x=\"139\" y=\"-849.8\">conv2d_25: Conv2D</text>\n<polyline fill=\"none\" points=\"209,-830.5 209,-876.5 \" stroke=\"#000000\"/>\n<text fill=\"#000000\" font-family=\"Times,serif\" font-size=\"14.00\" text-anchor=\"middle\" x=\"238\" y=\"-861.3\">input:</text>\n<polyline fill=\"none\" points=\"209,-853.5 267,-853.5 \" stroke=\"#000000\"/>\n<text fill=\"#000000\" font-family=\"Times,serif\" font-size=\"14.00\" text-anchor=\"middle\" x=\"238\" y=\"-838.3\">output:</text>\n<polyline fill=\"none\" points=\"267,-830.5 267,-876.5 \" stroke=\"#000000\"/>\n<text fill=\"#000000\" font-family=\"Times,serif\" font-size=\"14.00\" text-anchor=\"middle\" x=\"329.5\" y=\"-861.3\">(None, 17, 17, 64)</text>\n<polyline fill=\"none\" points=\"267,-853.5 392,-853.5 \" stroke=\"#000000\"/>\n<text fill=\"#000000\" font-family=\"Times,serif\" font-size=\"14.00\" text-anchor=\"middle\" x=\"329.5\" y=\"-838.3\">(None, 15, 15, 96)</text>\n</g>\n<!-- 139969616266912&#45;&gt;139969614284504 -->\n<g class=\"edge\" id=\"edge10\">\n<title>139969616266912-&gt;139969614284504</title>\n<path d=\"M230.5,-913.3799C230.5,-905.1745 230.5,-895.7679 230.5,-886.8786\" fill=\"none\" stroke=\"#000000\"/>\n<polygon fill=\"#000000\" points=\"234.0001,-886.784 230.5,-876.784 227.0001,-886.784 234.0001,-886.784\" stroke=\"#000000\"/>\n</g>\n<!-- 139969613070688 -->\n<g class=\"node\" id=\"node11\">\n<title>139969613070688</title>\n<polygon fill=\"none\" points=\"24.5,-747.5 24.5,-793.5 436.5,-793.5 436.5,-747.5 24.5,-747.5\" stroke=\"#000000\"/>\n<text fill=\"#000000\" font-family=\"Times,serif\" font-size=\"14.00\" text-anchor=\"middle\" x=\"139\" y=\"-766.8\">max_pooling2d_24: MaxPooling2D</text>\n<polyline fill=\"none\" points=\"253.5,-747.5 253.5,-793.5 \" stroke=\"#000000\"/>\n<text fill=\"#000000\" font-family=\"Times,serif\" font-size=\"14.00\" text-anchor=\"middle\" x=\"282.5\" y=\"-778.3\">input:</text>\n<polyline fill=\"none\" points=\"253.5,-770.5 311.5,-770.5 \" stroke=\"#000000\"/>\n<text fill=\"#000000\" font-family=\"Times,serif\" font-size=\"14.00\" text-anchor=\"middle\" x=\"282.5\" y=\"-755.3\">output:</text>\n<polyline fill=\"none\" points=\"311.5,-747.5 311.5,-793.5 \" stroke=\"#000000\"/>\n<text fill=\"#000000\" font-family=\"Times,serif\" font-size=\"14.00\" text-anchor=\"middle\" x=\"374\" y=\"-778.3\">(None, 15, 15, 96)</text>\n<polyline fill=\"none\" points=\"311.5,-770.5 436.5,-770.5 \" stroke=\"#000000\"/>\n<text fill=\"#000000\" font-family=\"Times,serif\" font-size=\"14.00\" text-anchor=\"middle\" x=\"374\" y=\"-755.3\">(None, 7, 7, 96)</text>\n</g>\n<!-- 139969614284504&#45;&gt;139969613070688 -->\n<g class=\"edge\" id=\"edge11\">\n<title>139969614284504-&gt;139969613070688</title>\n<path d=\"M230.5,-830.3799C230.5,-822.1745 230.5,-812.7679 230.5,-803.8786\" fill=\"none\" stroke=\"#000000\"/>\n<polygon fill=\"#000000\" points=\"234.0001,-803.784 230.5,-793.784 227.0001,-803.784 234.0001,-803.784\" stroke=\"#000000\"/>\n</g>\n<!-- 139969614103608 -->\n<g class=\"node\" id=\"node12\">\n<title>139969614103608</title>\n<polygon fill=\"none\" points=\"7.5,-664.5 7.5,-710.5 453.5,-710.5 453.5,-664.5 7.5,-664.5\" stroke=\"#000000\"/>\n<text fill=\"#000000\" font-family=\"Times,serif\" font-size=\"14.00\" text-anchor=\"middle\" x=\"146.5\" y=\"-683.8\">batch_normalization_30: BatchNormalization</text>\n<polyline fill=\"none\" points=\"285.5,-664.5 285.5,-710.5 \" stroke=\"#000000\"/>\n<text fill=\"#000000\" font-family=\"Times,serif\" font-size=\"14.00\" text-anchor=\"middle\" x=\"314.5\" y=\"-695.3\">input:</text>\n<polyline fill=\"none\" points=\"285.5,-687.5 343.5,-687.5 \" stroke=\"#000000\"/>\n<text fill=\"#000000\" font-family=\"Times,serif\" font-size=\"14.00\" text-anchor=\"middle\" x=\"314.5\" y=\"-672.3\">output:</text>\n<polyline fill=\"none\" points=\"343.5,-664.5 343.5,-710.5 \" stroke=\"#000000\"/>\n<text fill=\"#000000\" font-family=\"Times,serif\" font-size=\"14.00\" text-anchor=\"middle\" x=\"398.5\" y=\"-695.3\">(None, 7, 7, 96)</text>\n<polyline fill=\"none\" points=\"343.5,-687.5 453.5,-687.5 \" stroke=\"#000000\"/>\n<text fill=\"#000000\" font-family=\"Times,serif\" font-size=\"14.00\" text-anchor=\"middle\" x=\"398.5\" y=\"-672.3\">(None, 7, 7, 96)</text>\n</g>\n<!-- 139969613070688&#45;&gt;139969614103608 -->\n<g class=\"edge\" id=\"edge12\">\n<title>139969613070688-&gt;139969614103608</title>\n<path d=\"M230.5,-747.3799C230.5,-739.1745 230.5,-729.7679 230.5,-720.8786\" fill=\"none\" stroke=\"#000000\"/>\n<polygon fill=\"#000000\" points=\"234.0001,-720.784 230.5,-710.784 227.0001,-720.784 234.0001,-720.784\" stroke=\"#000000\"/>\n</g>\n<!-- 139969612283744 -->\n<g class=\"node\" id=\"node13\">\n<title>139969612283744</title>\n<polygon fill=\"none\" points=\"79.5,-581.5 79.5,-627.5 381.5,-627.5 381.5,-581.5 79.5,-581.5\" stroke=\"#000000\"/>\n<text fill=\"#000000\" font-family=\"Times,serif\" font-size=\"14.00\" text-anchor=\"middle\" x=\"146.5\" y=\"-600.8\">dropout_5: Dropout</text>\n<polyline fill=\"none\" points=\"213.5,-581.5 213.5,-627.5 \" stroke=\"#000000\"/>\n<text fill=\"#000000\" font-family=\"Times,serif\" font-size=\"14.00\" text-anchor=\"middle\" x=\"242.5\" y=\"-612.3\">input:</text>\n<polyline fill=\"none\" points=\"213.5,-604.5 271.5,-604.5 \" stroke=\"#000000\"/>\n<text fill=\"#000000\" font-family=\"Times,serif\" font-size=\"14.00\" text-anchor=\"middle\" x=\"242.5\" y=\"-589.3\">output:</text>\n<polyline fill=\"none\" points=\"271.5,-581.5 271.5,-627.5 \" stroke=\"#000000\"/>\n<text fill=\"#000000\" font-family=\"Times,serif\" font-size=\"14.00\" text-anchor=\"middle\" x=\"326.5\" y=\"-612.3\">(None, 7, 7, 96)</text>\n<polyline fill=\"none\" points=\"271.5,-604.5 381.5,-604.5 \" stroke=\"#000000\"/>\n<text fill=\"#000000\" font-family=\"Times,serif\" font-size=\"14.00\" text-anchor=\"middle\" x=\"326.5\" y=\"-589.3\">(None, 7, 7, 96)</text>\n</g>\n<!-- 139969614103608&#45;&gt;139969612283744 -->\n<g class=\"edge\" id=\"edge13\">\n<title>139969614103608-&gt;139969612283744</title>\n<path d=\"M230.5,-664.3799C230.5,-656.1745 230.5,-646.7679 230.5,-637.8786\" fill=\"none\" stroke=\"#000000\"/>\n<polygon fill=\"#000000\" points=\"234.0001,-637.784 230.5,-627.784 227.0001,-637.784 234.0001,-637.784\" stroke=\"#000000\"/>\n</g>\n<!-- 139969612283688 -->\n<g class=\"node\" id=\"node14\">\n<title>139969612283688</title>\n<polygon fill=\"none\" points=\"76.5,-498.5 76.5,-544.5 384.5,-544.5 384.5,-498.5 76.5,-498.5\" stroke=\"#000000\"/>\n<text fill=\"#000000\" font-family=\"Times,serif\" font-size=\"14.00\" text-anchor=\"middle\" x=\"146.5\" y=\"-517.8\">conv2d_26: Conv2D</text>\n<polyline fill=\"none\" points=\"216.5,-498.5 216.5,-544.5 \" stroke=\"#000000\"/>\n<text fill=\"#000000\" font-family=\"Times,serif\" font-size=\"14.00\" text-anchor=\"middle\" x=\"245.5\" y=\"-529.3\">input:</text>\n<polyline fill=\"none\" points=\"216.5,-521.5 274.5,-521.5 \" stroke=\"#000000\"/>\n<text fill=\"#000000\" font-family=\"Times,serif\" font-size=\"14.00\" text-anchor=\"middle\" x=\"245.5\" y=\"-506.3\">output:</text>\n<polyline fill=\"none\" points=\"274.5,-498.5 274.5,-544.5 \" stroke=\"#000000\"/>\n<text fill=\"#000000\" font-family=\"Times,serif\" font-size=\"14.00\" text-anchor=\"middle\" x=\"329.5\" y=\"-529.3\">(None, 7, 7, 96)</text>\n<polyline fill=\"none\" points=\"274.5,-521.5 384.5,-521.5 \" stroke=\"#000000\"/>\n<text fill=\"#000000\" font-family=\"Times,serif\" font-size=\"14.00\" text-anchor=\"middle\" x=\"329.5\" y=\"-506.3\">(None, 5, 5, 32)</text>\n</g>\n<!-- 139969612283744&#45;&gt;139969612283688 -->\n<g class=\"edge\" id=\"edge14\">\n<title>139969612283744-&gt;139969612283688</title>\n<path d=\"M230.5,-581.3799C230.5,-573.1745 230.5,-563.7679 230.5,-554.8786\" fill=\"none\" stroke=\"#000000\"/>\n<polygon fill=\"#000000\" points=\"234.0001,-554.784 230.5,-544.784 227.0001,-554.784 234.0001,-554.784\" stroke=\"#000000\"/>\n</g>\n<!-- 139969612458808 -->\n<g class=\"node\" id=\"node15\">\n<title>139969612458808</title>\n<polygon fill=\"none\" points=\"32,-415.5 32,-461.5 429,-461.5 429,-415.5 32,-415.5\" stroke=\"#000000\"/>\n<text fill=\"#000000\" font-family=\"Times,serif\" font-size=\"14.00\" text-anchor=\"middle\" x=\"146.5\" y=\"-434.8\">max_pooling2d_25: MaxPooling2D</text>\n<polyline fill=\"none\" points=\"261,-415.5 261,-461.5 \" stroke=\"#000000\"/>\n<text fill=\"#000000\" font-family=\"Times,serif\" font-size=\"14.00\" text-anchor=\"middle\" x=\"290\" y=\"-446.3\">input:</text>\n<polyline fill=\"none\" points=\"261,-438.5 319,-438.5 \" stroke=\"#000000\"/>\n<text fill=\"#000000\" font-family=\"Times,serif\" font-size=\"14.00\" text-anchor=\"middle\" x=\"290\" y=\"-423.3\">output:</text>\n<polyline fill=\"none\" points=\"319,-415.5 319,-461.5 \" stroke=\"#000000\"/>\n<text fill=\"#000000\" font-family=\"Times,serif\" font-size=\"14.00\" text-anchor=\"middle\" x=\"374\" y=\"-446.3\">(None, 5, 5, 32)</text>\n<polyline fill=\"none\" points=\"319,-438.5 429,-438.5 \" stroke=\"#000000\"/>\n<text fill=\"#000000\" font-family=\"Times,serif\" font-size=\"14.00\" text-anchor=\"middle\" x=\"374\" y=\"-423.3\">(None, 2, 2, 32)</text>\n</g>\n<!-- 139969612283688&#45;&gt;139969612458808 -->\n<g class=\"edge\" id=\"edge15\">\n<title>139969612283688-&gt;139969612458808</title>\n<path d=\"M230.5,-498.3799C230.5,-490.1745 230.5,-480.7679 230.5,-471.8786\" fill=\"none\" stroke=\"#000000\"/>\n<polygon fill=\"#000000\" points=\"234.0001,-471.784 230.5,-461.784 227.0001,-471.784 234.0001,-471.784\" stroke=\"#000000\"/>\n</g>\n<!-- 139969613072928 -->\n<g class=\"node\" id=\"node16\">\n<title>139969613072928</title>\n<polygon fill=\"none\" points=\"7.5,-332.5 7.5,-378.5 453.5,-378.5 453.5,-332.5 7.5,-332.5\" stroke=\"#000000\"/>\n<text fill=\"#000000\" font-family=\"Times,serif\" font-size=\"14.00\" text-anchor=\"middle\" x=\"146.5\" y=\"-351.8\">batch_normalization_31: BatchNormalization</text>\n<polyline fill=\"none\" points=\"285.5,-332.5 285.5,-378.5 \" stroke=\"#000000\"/>\n<text fill=\"#000000\" font-family=\"Times,serif\" font-size=\"14.00\" text-anchor=\"middle\" x=\"314.5\" y=\"-363.3\">input:</text>\n<polyline fill=\"none\" points=\"285.5,-355.5 343.5,-355.5 \" stroke=\"#000000\"/>\n<text fill=\"#000000\" font-family=\"Times,serif\" font-size=\"14.00\" text-anchor=\"middle\" x=\"314.5\" y=\"-340.3\">output:</text>\n<polyline fill=\"none\" points=\"343.5,-332.5 343.5,-378.5 \" stroke=\"#000000\"/>\n<text fill=\"#000000\" font-family=\"Times,serif\" font-size=\"14.00\" text-anchor=\"middle\" x=\"398.5\" y=\"-363.3\">(None, 2, 2, 32)</text>\n<polyline fill=\"none\" points=\"343.5,-355.5 453.5,-355.5 \" stroke=\"#000000\"/>\n<text fill=\"#000000\" font-family=\"Times,serif\" font-size=\"14.00\" text-anchor=\"middle\" x=\"398.5\" y=\"-340.3\">(None, 2, 2, 32)</text>\n</g>\n<!-- 139969612458808&#45;&gt;139969613072928 -->\n<g class=\"edge\" id=\"edge16\">\n<title>139969612458808-&gt;139969613072928</title>\n<path d=\"M230.5,-415.3799C230.5,-407.1745 230.5,-397.7679 230.5,-388.8786\" fill=\"none\" stroke=\"#000000\"/>\n<polygon fill=\"#000000\" points=\"234.0001,-388.784 230.5,-378.784 227.0001,-388.784 234.0001,-388.784\" stroke=\"#000000\"/>\n</g>\n<!-- 139969611431776 -->\n<g class=\"node\" id=\"node17\">\n<title>139969611431776</title>\n<polygon fill=\"none\" points=\"79.5,-249.5 79.5,-295.5 381.5,-295.5 381.5,-249.5 79.5,-249.5\" stroke=\"#000000\"/>\n<text fill=\"#000000\" font-family=\"Times,serif\" font-size=\"14.00\" text-anchor=\"middle\" x=\"146.5\" y=\"-268.8\">dropout_6: Dropout</text>\n<polyline fill=\"none\" points=\"213.5,-249.5 213.5,-295.5 \" stroke=\"#000000\"/>\n<text fill=\"#000000\" font-family=\"Times,serif\" font-size=\"14.00\" text-anchor=\"middle\" x=\"242.5\" y=\"-280.3\">input:</text>\n<polyline fill=\"none\" points=\"213.5,-272.5 271.5,-272.5 \" stroke=\"#000000\"/>\n<text fill=\"#000000\" font-family=\"Times,serif\" font-size=\"14.00\" text-anchor=\"middle\" x=\"242.5\" y=\"-257.3\">output:</text>\n<polyline fill=\"none\" points=\"271.5,-249.5 271.5,-295.5 \" stroke=\"#000000\"/>\n<text fill=\"#000000\" font-family=\"Times,serif\" font-size=\"14.00\" text-anchor=\"middle\" x=\"326.5\" y=\"-280.3\">(None, 2, 2, 32)</text>\n<polyline fill=\"none\" points=\"271.5,-272.5 381.5,-272.5 \" stroke=\"#000000\"/>\n<text fill=\"#000000\" font-family=\"Times,serif\" font-size=\"14.00\" text-anchor=\"middle\" x=\"326.5\" y=\"-257.3\">(None, 2, 2, 32)</text>\n</g>\n<!-- 139969613072928&#45;&gt;139969611431776 -->\n<g class=\"edge\" id=\"edge17\">\n<title>139969613072928-&gt;139969611431776</title>\n<path d=\"M230.5,-332.3799C230.5,-324.1745 230.5,-314.7679 230.5,-305.8786\" fill=\"none\" stroke=\"#000000\"/>\n<polygon fill=\"#000000\" points=\"234.0001,-305.784 230.5,-295.784 227.0001,-305.784 234.0001,-305.784\" stroke=\"#000000\"/>\n</g>\n<!-- 139969611431552 -->\n<g class=\"node\" id=\"node18\">\n<title>139969611431552</title>\n<polygon fill=\"none\" points=\"90,-166.5 90,-212.5 371,-212.5 371,-166.5 90,-166.5\" stroke=\"#000000\"/>\n<text fill=\"#000000\" font-family=\"Times,serif\" font-size=\"14.00\" text-anchor=\"middle\" x=\"146.5\" y=\"-185.8\">flatten_5: Flatten</text>\n<polyline fill=\"none\" points=\"203,-166.5 203,-212.5 \" stroke=\"#000000\"/>\n<text fill=\"#000000\" font-family=\"Times,serif\" font-size=\"14.00\" text-anchor=\"middle\" x=\"232\" y=\"-197.3\">input:</text>\n<polyline fill=\"none\" points=\"203,-189.5 261,-189.5 \" stroke=\"#000000\"/>\n<text fill=\"#000000\" font-family=\"Times,serif\" font-size=\"14.00\" text-anchor=\"middle\" x=\"232\" y=\"-174.3\">output:</text>\n<polyline fill=\"none\" points=\"261,-166.5 261,-212.5 \" stroke=\"#000000\"/>\n<text fill=\"#000000\" font-family=\"Times,serif\" font-size=\"14.00\" text-anchor=\"middle\" x=\"316\" y=\"-197.3\">(None, 2, 2, 32)</text>\n<polyline fill=\"none\" points=\"261,-189.5 371,-189.5 \" stroke=\"#000000\"/>\n<text fill=\"#000000\" font-family=\"Times,serif\" font-size=\"14.00\" text-anchor=\"middle\" x=\"316\" y=\"-174.3\">(None, 128)</text>\n</g>\n<!-- 139969611431776&#45;&gt;139969611431552 -->\n<g class=\"edge\" id=\"edge18\">\n<title>139969611431776-&gt;139969611431552</title>\n<path d=\"M230.5,-249.3799C230.5,-241.1745 230.5,-231.7679 230.5,-222.8786\" fill=\"none\" stroke=\"#000000\"/>\n<polygon fill=\"#000000\" points=\"234.0001,-222.784 230.5,-212.784 227.0001,-222.784 234.0001,-222.784\" stroke=\"#000000\"/>\n</g>\n<!-- 139969612166032 -->\n<g class=\"node\" id=\"node19\">\n<title>139969612166032</title>\n<polygon fill=\"none\" points=\"104.5,-83.5 104.5,-129.5 356.5,-129.5 356.5,-83.5 104.5,-83.5\" stroke=\"#000000\"/>\n<text fill=\"#000000\" font-family=\"Times,serif\" font-size=\"14.00\" text-anchor=\"middle\" x=\"158\" y=\"-102.8\">dense_6: Dense</text>\n<polyline fill=\"none\" points=\"211.5,-83.5 211.5,-129.5 \" stroke=\"#000000\"/>\n<text fill=\"#000000\" font-family=\"Times,serif\" font-size=\"14.00\" text-anchor=\"middle\" x=\"240.5\" y=\"-114.3\">input:</text>\n<polyline fill=\"none\" points=\"211.5,-106.5 269.5,-106.5 \" stroke=\"#000000\"/>\n<text fill=\"#000000\" font-family=\"Times,serif\" font-size=\"14.00\" text-anchor=\"middle\" x=\"240.5\" y=\"-91.3\">output:</text>\n<polyline fill=\"none\" points=\"269.5,-83.5 269.5,-129.5 \" stroke=\"#000000\"/>\n<text fill=\"#000000\" font-family=\"Times,serif\" font-size=\"14.00\" text-anchor=\"middle\" x=\"313\" y=\"-114.3\">(None, 128)</text>\n<polyline fill=\"none\" points=\"269.5,-106.5 356.5,-106.5 \" stroke=\"#000000\"/>\n<text fill=\"#000000\" font-family=\"Times,serif\" font-size=\"14.00\" text-anchor=\"middle\" x=\"313\" y=\"-91.3\">(None, 128)</text>\n</g>\n<!-- 139969611431552&#45;&gt;139969612166032 -->\n<g class=\"edge\" id=\"edge19\">\n<title>139969611431552-&gt;139969612166032</title>\n<path d=\"M230.5,-166.3799C230.5,-158.1745 230.5,-148.7679 230.5,-139.8786\" fill=\"none\" stroke=\"#000000\"/>\n<polygon fill=\"#000000\" points=\"234.0001,-139.784 230.5,-129.784 227.0001,-139.784 234.0001,-139.784\" stroke=\"#000000\"/>\n</g>\n<!-- 139969610974712 -->\n<g class=\"node\" id=\"node20\">\n<title>139969610974712</title>\n<polygon fill=\"none\" points=\"104.5,-.5 104.5,-46.5 356.5,-46.5 356.5,-.5 104.5,-.5\" stroke=\"#000000\"/>\n<text fill=\"#000000\" font-family=\"Times,serif\" font-size=\"14.00\" text-anchor=\"middle\" x=\"158\" y=\"-19.8\">dense_7: Dense</text>\n<polyline fill=\"none\" points=\"211.5,-.5 211.5,-46.5 \" stroke=\"#000000\"/>\n<text fill=\"#000000\" font-family=\"Times,serif\" font-size=\"14.00\" text-anchor=\"middle\" x=\"240.5\" y=\"-31.3\">input:</text>\n<polyline fill=\"none\" points=\"211.5,-23.5 269.5,-23.5 \" stroke=\"#000000\"/>\n<text fill=\"#000000\" font-family=\"Times,serif\" font-size=\"14.00\" text-anchor=\"middle\" x=\"240.5\" y=\"-8.3\">output:</text>\n<polyline fill=\"none\" points=\"269.5,-.5 269.5,-46.5 \" stroke=\"#000000\"/>\n<text fill=\"#000000\" font-family=\"Times,serif\" font-size=\"14.00\" text-anchor=\"middle\" x=\"313\" y=\"-31.3\">(None, 128)</text>\n<polyline fill=\"none\" points=\"269.5,-23.5 356.5,-23.5 \" stroke=\"#000000\"/>\n<text fill=\"#000000\" font-family=\"Times,serif\" font-size=\"14.00\" text-anchor=\"middle\" x=\"313\" y=\"-8.3\">(None, 5)</text>\n</g>\n<!-- 139969612166032&#45;&gt;139969610974712 -->\n<g class=\"edge\" id=\"edge20\">\n<title>139969612166032-&gt;139969610974712</title>\n<path d=\"M230.5,-83.3799C230.5,-75.1745 230.5,-65.7679 230.5,-56.8786\" fill=\"none\" stroke=\"#000000\"/>\n<polygon fill=\"#000000\" points=\"234.0001,-56.784 230.5,-46.784 227.0001,-56.784 234.0001,-56.784\" stroke=\"#000000\"/>\n</g>\n<!-- 139969617105976 -->\n<g class=\"node\" id=\"node21\">\n<title>139969617105976</title>\n<polygon fill=\"none\" points=\"166,-1660.5 166,-1696.5 295,-1696.5 295,-1660.5 166,-1660.5\" stroke=\"#000000\"/>\n<text fill=\"#000000\" font-family=\"Times,serif\" font-size=\"14.00\" text-anchor=\"middle\" x=\"230.5\" y=\"-1674.8\">139969617105976</text>\n</g>\n<!-- 139969617105976&#45;&gt;139969617105248 -->\n<g class=\"edge\" id=\"edge1\">\n<title>139969617105976-&gt;139969617105248</title>\n<path d=\"M230.5,-1660.4092C230.5,-1652.4308 230.5,-1642.795 230.5,-1633.606\" fill=\"none\" stroke=\"#000000\"/>\n<polygon fill=\"#000000\" points=\"234.0001,-1633.5333 230.5,-1623.5333 227.0001,-1633.5334 234.0001,-1633.5333\" stroke=\"#000000\"/>\n</g>\n</g>\n</svg>"
          },
          "metadata": {
            "tags": []
          },
          "execution_count": 82
        }
      ]
    },
    {
      "cell_type": "code",
      "metadata": {
        "id": "CuxC7CPQiG6p",
        "colab_type": "code",
        "outputId": "9bf6772e-656c-4975-c59f-66f621dddb8c",
        "colab": {
          "base_uri": "https://localhost:8080/",
          "height": 35
        }
      },
      "source": [
        "import tensorflow as tf\n",
        "tf.test.gpu_device_name()"
      ],
      "execution_count": 0,
      "outputs": [
        {
          "output_type": "execute_result",
          "data": {
            "text/plain": [
              "'/device:GPU:0'"
            ]
          },
          "metadata": {
            "tags": []
          },
          "execution_count": 83
        }
      ]
    },
    {
      "cell_type": "code",
      "metadata": {
        "id": "bFEEmHnAjFQP",
        "colab_type": "code",
        "outputId": "265c7a71-6b00-4eb8-9d58-8e52dde59777",
        "colab": {
          "base_uri": "https://localhost:8080/",
          "height": 3521
        }
      },
      "source": [
        "batch_size = 256\n",
        "history = model.fit(X_train, Y_train, epochs=100, batch_size=batch_size, validation_data=(X_test, Y_test))"
      ],
      "execution_count": 0,
      "outputs": [
        {
          "output_type": "stream",
          "text": [
            "Train on 2569 samples, validate on 550 samples\n",
            "Epoch 1/100\n",
            "2569/2569 [==============================] - 5s 2ms/step - loss: 1.5794 - acc: 0.4196 - val_loss: 1.4591 - val_acc: 0.4800\n",
            "Epoch 2/100\n",
            "2569/2569 [==============================] - 2s 926us/step - loss: 1.2277 - acc: 0.5629 - val_loss: 1.3170 - val_acc: 0.5582\n",
            "Epoch 3/100\n",
            "2569/2569 [==============================] - 2s 909us/step - loss: 1.1526 - acc: 0.5889 - val_loss: 1.2633 - val_acc: 0.5655\n",
            "Epoch 4/100\n",
            "2569/2569 [==============================] - 2s 909us/step - loss: 1.0960 - acc: 0.6150 - val_loss: 1.1858 - val_acc: 0.5945\n",
            "Epoch 5/100\n",
            "2569/2569 [==============================] - 2s 909us/step - loss: 1.0274 - acc: 0.6376 - val_loss: 1.1349 - val_acc: 0.5964\n",
            "Epoch 6/100\n",
            "2569/2569 [==============================] - 2s 914us/step - loss: 0.9685 - acc: 0.6750 - val_loss: 1.2147 - val_acc: 0.5636\n",
            "Epoch 7/100\n",
            "2569/2569 [==============================] - 2s 912us/step - loss: 0.9321 - acc: 0.6800 - val_loss: 1.0837 - val_acc: 0.6400\n",
            "Epoch 8/100\n",
            "2569/2569 [==============================] - 2s 919us/step - loss: 0.9067 - acc: 0.6960 - val_loss: 1.2652 - val_acc: 0.5836\n",
            "Epoch 9/100\n",
            "2569/2569 [==============================] - 2s 918us/step - loss: 0.8803 - acc: 0.7096 - val_loss: 1.1003 - val_acc: 0.6509\n",
            "Epoch 10/100\n",
            "2569/2569 [==============================] - 2s 922us/step - loss: 0.8540 - acc: 0.7139 - val_loss: 1.0535 - val_acc: 0.6491\n",
            "Epoch 11/100\n",
            "2569/2569 [==============================] - 2s 921us/step - loss: 0.8288 - acc: 0.7337 - val_loss: 1.6118 - val_acc: 0.5582\n",
            "Epoch 12/100\n",
            "2569/2569 [==============================] - 2s 926us/step - loss: 0.8664 - acc: 0.7213 - val_loss: 1.8499 - val_acc: 0.4309\n",
            "Epoch 13/100\n",
            "2569/2569 [==============================] - 2s 924us/step - loss: 0.8283 - acc: 0.7306 - val_loss: 1.1811 - val_acc: 0.6200\n",
            "Epoch 14/100\n",
            "2569/2569 [==============================] - 2s 923us/step - loss: 0.8193 - acc: 0.7373 - val_loss: 1.0261 - val_acc: 0.6600\n",
            "Epoch 15/100\n",
            "2569/2569 [==============================] - 2s 924us/step - loss: 0.8042 - acc: 0.7353 - val_loss: 1.2194 - val_acc: 0.6091\n",
            "Epoch 16/100\n",
            "2569/2569 [==============================] - 2s 925us/step - loss: 0.8525 - acc: 0.7256 - val_loss: 1.2212 - val_acc: 0.6345\n",
            "Epoch 17/100\n",
            "2569/2569 [==============================] - 2s 922us/step - loss: 0.7810 - acc: 0.7517 - val_loss: 1.4726 - val_acc: 0.5345\n",
            "Epoch 18/100\n",
            "2569/2569 [==============================] - 2s 923us/step - loss: 0.8430 - acc: 0.7302 - val_loss: 1.4018 - val_acc: 0.5909\n",
            "Epoch 19/100\n",
            "2569/2569 [==============================] - 2s 920us/step - loss: 0.7857 - acc: 0.7443 - val_loss: 1.1860 - val_acc: 0.6055\n",
            "Epoch 20/100\n",
            "2569/2569 [==============================] - 2s 933us/step - loss: 0.7446 - acc: 0.7610 - val_loss: 1.0882 - val_acc: 0.6709\n",
            "Epoch 21/100\n",
            "2569/2569 [==============================] - 2s 930us/step - loss: 0.6900 - acc: 0.7816 - val_loss: 1.0335 - val_acc: 0.6691\n",
            "Epoch 22/100\n",
            "2569/2569 [==============================] - 2s 932us/step - loss: 0.7060 - acc: 0.7770 - val_loss: 1.0099 - val_acc: 0.6673\n",
            "Epoch 23/100\n",
            "2569/2569 [==============================] - 2s 928us/step - loss: 0.6648 - acc: 0.8011 - val_loss: 0.9793 - val_acc: 0.6745\n",
            "Epoch 24/100\n",
            "2569/2569 [==============================] - 2s 916us/step - loss: 0.6312 - acc: 0.8038 - val_loss: 1.0194 - val_acc: 0.6764\n",
            "Epoch 25/100\n",
            "2569/2569 [==============================] - 2s 913us/step - loss: 0.7317 - acc: 0.7707 - val_loss: 1.2332 - val_acc: 0.6109\n",
            "Epoch 26/100\n",
            "2569/2569 [==============================] - 2s 914us/step - loss: 0.6821 - acc: 0.7894 - val_loss: 1.0843 - val_acc: 0.6436\n",
            "Epoch 27/100\n",
            "2569/2569 [==============================] - 2s 916us/step - loss: 0.6723 - acc: 0.7863 - val_loss: 1.0454 - val_acc: 0.6873\n",
            "Epoch 28/100\n",
            "2569/2569 [==============================] - 2s 911us/step - loss: 0.6422 - acc: 0.7999 - val_loss: 0.9957 - val_acc: 0.6545\n",
            "Epoch 29/100\n",
            "2569/2569 [==============================] - 2s 917us/step - loss: 0.6272 - acc: 0.8042 - val_loss: 1.3244 - val_acc: 0.6145\n",
            "Epoch 30/100\n",
            "2569/2569 [==============================] - 2s 912us/step - loss: 0.8221 - acc: 0.7361 - val_loss: 1.3372 - val_acc: 0.5945\n",
            "Epoch 31/100\n",
            "2569/2569 [==============================] - 2s 914us/step - loss: 0.6734 - acc: 0.7855 - val_loss: 0.9828 - val_acc: 0.6709\n",
            "Epoch 32/100\n",
            "2569/2569 [==============================] - 2s 911us/step - loss: 0.6209 - acc: 0.8124 - val_loss: 1.0259 - val_acc: 0.6600\n",
            "Epoch 33/100\n",
            "2569/2569 [==============================] - 2s 912us/step - loss: 0.5882 - acc: 0.8287 - val_loss: 0.9670 - val_acc: 0.6891\n",
            "Epoch 34/100\n",
            "2569/2569 [==============================] - 2s 913us/step - loss: 0.5654 - acc: 0.8272 - val_loss: 1.0002 - val_acc: 0.6764\n",
            "Epoch 35/100\n",
            "2569/2569 [==============================] - 2s 909us/step - loss: 0.5528 - acc: 0.8369 - val_loss: 1.0249 - val_acc: 0.6873\n",
            "Epoch 36/100\n",
            "2569/2569 [==============================] - 2s 916us/step - loss: 0.5497 - acc: 0.8365 - val_loss: 1.0870 - val_acc: 0.6382\n",
            "Epoch 37/100\n",
            "2569/2569 [==============================] - 2s 912us/step - loss: 0.5788 - acc: 0.8186 - val_loss: 1.0296 - val_acc: 0.6545\n",
            "Epoch 38/100\n",
            "2569/2569 [==============================] - 2s 915us/step - loss: 0.5787 - acc: 0.8209 - val_loss: 1.1224 - val_acc: 0.6509\n",
            "Epoch 39/100\n",
            "2569/2569 [==============================] - 2s 909us/step - loss: 0.5406 - acc: 0.8424 - val_loss: 1.0065 - val_acc: 0.6673\n",
            "Epoch 40/100\n",
            "2569/2569 [==============================] - 2s 912us/step - loss: 0.5418 - acc: 0.8400 - val_loss: 1.3829 - val_acc: 0.6164\n",
            "Epoch 41/100\n",
            "2569/2569 [==============================] - 2s 910us/step - loss: 0.5269 - acc: 0.8470 - val_loss: 1.1058 - val_acc: 0.6673\n",
            "Epoch 42/100\n",
            "2569/2569 [==============================] - 2s 914us/step - loss: 0.4924 - acc: 0.8603 - val_loss: 1.0250 - val_acc: 0.6855\n",
            "Epoch 43/100\n",
            "2569/2569 [==============================] - 2s 920us/step - loss: 0.5245 - acc: 0.8420 - val_loss: 0.9881 - val_acc: 0.6818\n",
            "Epoch 44/100\n",
            "2569/2569 [==============================] - 2s 916us/step - loss: 0.5841 - acc: 0.8248 - val_loss: 1.0656 - val_acc: 0.6800\n",
            "Epoch 45/100\n",
            "2569/2569 [==============================] - 2s 908us/step - loss: 0.5193 - acc: 0.8494 - val_loss: 1.0392 - val_acc: 0.6527\n",
            "Epoch 46/100\n",
            "2569/2569 [==============================] - 2s 915us/step - loss: 0.5368 - acc: 0.8392 - val_loss: 1.1152 - val_acc: 0.6727\n",
            "Epoch 47/100\n",
            "2569/2569 [==============================] - 2s 914us/step - loss: 0.5689 - acc: 0.8244 - val_loss: 1.0447 - val_acc: 0.6764\n",
            "Epoch 48/100\n",
            "2569/2569 [==============================] - 2s 915us/step - loss: 0.5124 - acc: 0.8564 - val_loss: 1.1418 - val_acc: 0.6618\n",
            "Epoch 49/100\n",
            "2569/2569 [==============================] - 2s 915us/step - loss: 0.4736 - acc: 0.8606 - val_loss: 1.1257 - val_acc: 0.6909\n",
            "Epoch 50/100\n",
            "2569/2569 [==============================] - 2s 912us/step - loss: 0.4328 - acc: 0.8782 - val_loss: 0.9872 - val_acc: 0.7036\n",
            "Epoch 51/100\n",
            "2569/2569 [==============================] - 2s 917us/step - loss: 0.5080 - acc: 0.8443 - val_loss: 1.2108 - val_acc: 0.6400\n",
            "Epoch 52/100\n",
            "2569/2569 [==============================] - 2s 915us/step - loss: 0.4848 - acc: 0.8634 - val_loss: 1.1537 - val_acc: 0.6600\n",
            "Epoch 53/100\n",
            "2569/2569 [==============================] - 2s 918us/step - loss: 0.4849 - acc: 0.8513 - val_loss: 1.0260 - val_acc: 0.6964\n",
            "Epoch 54/100\n",
            "2569/2569 [==============================] - 2s 929us/step - loss: 0.4608 - acc: 0.8638 - val_loss: 1.1465 - val_acc: 0.6764\n",
            "Epoch 55/100\n",
            "2569/2569 [==============================] - 2s 922us/step - loss: 0.4301 - acc: 0.8805 - val_loss: 0.9312 - val_acc: 0.7200\n",
            "Epoch 56/100\n",
            "2569/2569 [==============================] - 2s 924us/step - loss: 0.3903 - acc: 0.8980 - val_loss: 1.0044 - val_acc: 0.6800\n",
            "Epoch 57/100\n",
            "2569/2569 [==============================] - 2s 926us/step - loss: 0.4002 - acc: 0.8968 - val_loss: 1.1086 - val_acc: 0.6745\n",
            "Epoch 58/100\n",
            "2569/2569 [==============================] - 2s 920us/step - loss: 0.3732 - acc: 0.9074 - val_loss: 1.0342 - val_acc: 0.6855\n",
            "Epoch 59/100\n",
            "2569/2569 [==============================] - 2s 918us/step - loss: 0.4123 - acc: 0.8879 - val_loss: 1.1783 - val_acc: 0.6436\n",
            "Epoch 60/100\n",
            "2569/2569 [==============================] - 2s 919us/step - loss: 0.4868 - acc: 0.8505 - val_loss: 1.4487 - val_acc: 0.5964\n",
            "Epoch 61/100\n",
            "2569/2569 [==============================] - 2s 917us/step - loss: 0.4424 - acc: 0.8649 - val_loss: 1.0593 - val_acc: 0.6927\n",
            "Epoch 62/100\n",
            "2569/2569 [==============================] - 2s 918us/step - loss: 0.3907 - acc: 0.8887 - val_loss: 0.9765 - val_acc: 0.6891\n",
            "Epoch 63/100\n",
            "2569/2569 [==============================] - 2s 915us/step - loss: 0.3673 - acc: 0.9004 - val_loss: 1.0829 - val_acc: 0.6873\n",
            "Epoch 64/100\n",
            "2569/2569 [==============================] - 2s 915us/step - loss: 0.3998 - acc: 0.8817 - val_loss: 1.1037 - val_acc: 0.6909\n",
            "Epoch 65/100\n",
            "2569/2569 [==============================] - 2s 914us/step - loss: 0.3387 - acc: 0.9116 - val_loss: 0.9053 - val_acc: 0.7364\n",
            "Epoch 66/100\n",
            "2569/2569 [==============================] - 2s 910us/step - loss: 0.3810 - acc: 0.8891 - val_loss: 0.9901 - val_acc: 0.6873\n",
            "Epoch 67/100\n",
            "2569/2569 [==============================] - 2s 913us/step - loss: 0.3739 - acc: 0.8968 - val_loss: 0.9463 - val_acc: 0.7200\n",
            "Epoch 68/100\n",
            "2569/2569 [==============================] - 2s 914us/step - loss: 0.3666 - acc: 0.8965 - val_loss: 0.9526 - val_acc: 0.7255\n",
            "Epoch 69/100\n",
            "2569/2569 [==============================] - 2s 916us/step - loss: 0.3861 - acc: 0.8898 - val_loss: 1.0084 - val_acc: 0.7000\n",
            "Epoch 70/100\n",
            "2569/2569 [==============================] - 2s 917us/step - loss: 0.3182 - acc: 0.9210 - val_loss: 1.1517 - val_acc: 0.6855\n",
            "Epoch 71/100\n",
            "2569/2569 [==============================] - 2s 912us/step - loss: 0.4107 - acc: 0.8926 - val_loss: 1.9368 - val_acc: 0.5473\n",
            "Epoch 72/100\n",
            "2569/2569 [==============================] - 2s 918us/step - loss: 0.4313 - acc: 0.8770 - val_loss: 1.3986 - val_acc: 0.6364\n",
            "Epoch 73/100\n",
            "2569/2569 [==============================] - 2s 914us/step - loss: 0.4202 - acc: 0.8770 - val_loss: 1.8828 - val_acc: 0.5636\n",
            "Epoch 74/100\n",
            "2569/2569 [==============================] - 2s 917us/step - loss: 0.4415 - acc: 0.8673 - val_loss: 1.4454 - val_acc: 0.6127\n",
            "Epoch 75/100\n",
            "2569/2569 [==============================] - 2s 914us/step - loss: 0.4843 - acc: 0.8544 - val_loss: 1.0881 - val_acc: 0.6727\n",
            "Epoch 76/100\n",
            "2569/2569 [==============================] - 2s 912us/step - loss: 0.4781 - acc: 0.8459 - val_loss: 1.1158 - val_acc: 0.6618\n",
            "Epoch 77/100\n",
            "2569/2569 [==============================] - 2s 912us/step - loss: 0.4109 - acc: 0.8801 - val_loss: 1.2469 - val_acc: 0.6400\n",
            "Epoch 78/100\n",
            "2569/2569 [==============================] - 2s 917us/step - loss: 0.3702 - acc: 0.8949 - val_loss: 1.1184 - val_acc: 0.6927\n",
            "Epoch 79/100\n",
            "2569/2569 [==============================] - 2s 914us/step - loss: 0.3251 - acc: 0.9194 - val_loss: 1.0167 - val_acc: 0.6891\n",
            "Epoch 80/100\n",
            "2569/2569 [==============================] - 2s 912us/step - loss: 0.3515 - acc: 0.9093 - val_loss: 1.0547 - val_acc: 0.6927\n",
            "Epoch 81/100\n",
            "2569/2569 [==============================] - 2s 911us/step - loss: 0.3192 - acc: 0.9221 - val_loss: 1.0917 - val_acc: 0.6891\n",
            "Epoch 82/100\n",
            "2569/2569 [==============================] - 2s 914us/step - loss: 0.3033 - acc: 0.9245 - val_loss: 1.3577 - val_acc: 0.6727\n",
            "Epoch 83/100\n",
            "2569/2569 [==============================] - 2s 911us/step - loss: 0.2885 - acc: 0.9303 - val_loss: 1.1793 - val_acc: 0.6927\n",
            "Epoch 84/100\n",
            "2569/2569 [==============================] - 2s 917us/step - loss: 0.2545 - acc: 0.9463 - val_loss: 1.1697 - val_acc: 0.6836\n",
            "Epoch 85/100\n",
            "2569/2569 [==============================] - 2s 911us/step - loss: 0.2949 - acc: 0.9249 - val_loss: 1.1921 - val_acc: 0.6745\n",
            "Epoch 86/100\n",
            "2569/2569 [==============================] - 2s 914us/step - loss: 0.3073 - acc: 0.9218 - val_loss: 1.4204 - val_acc: 0.6564\n",
            "Epoch 87/100\n",
            "2569/2569 [==============================] - 2s 915us/step - loss: 0.2882 - acc: 0.9327 - val_loss: 1.1503 - val_acc: 0.6709\n",
            "Epoch 88/100\n",
            "2569/2569 [==============================] - 2s 921us/step - loss: 0.2581 - acc: 0.9342 - val_loss: 1.0097 - val_acc: 0.7055\n",
            "Epoch 89/100\n",
            "2569/2569 [==============================] - 2s 926us/step - loss: 0.2438 - acc: 0.9467 - val_loss: 1.1788 - val_acc: 0.6855\n",
            "Epoch 90/100\n",
            "2569/2569 [==============================] - 2s 923us/step - loss: 0.2191 - acc: 0.9545 - val_loss: 0.9737 - val_acc: 0.7364\n",
            "Epoch 91/100\n",
            "2569/2569 [==============================] - 2s 925us/step - loss: 0.2213 - acc: 0.9548 - val_loss: 1.1649 - val_acc: 0.6909\n",
            "Epoch 92/100\n",
            "2569/2569 [==============================] - 2s 926us/step - loss: 0.2957 - acc: 0.9214 - val_loss: 1.4139 - val_acc: 0.6673\n",
            "Epoch 93/100\n",
            "2569/2569 [==============================] - 2s 914us/step - loss: 0.2786 - acc: 0.9307 - val_loss: 1.2407 - val_acc: 0.6800\n",
            "Epoch 94/100\n",
            "2569/2569 [==============================] - 2s 915us/step - loss: 0.2686 - acc: 0.9319 - val_loss: 1.3492 - val_acc: 0.6782\n",
            "Epoch 95/100\n",
            "2569/2569 [==============================] - 2s 914us/step - loss: 0.2916 - acc: 0.9241 - val_loss: 1.1157 - val_acc: 0.7127\n",
            "Epoch 96/100\n",
            "2569/2569 [==============================] - 2s 918us/step - loss: 0.2801 - acc: 0.9264 - val_loss: 1.2524 - val_acc: 0.6818\n",
            "Epoch 97/100\n",
            "2569/2569 [==============================] - 2s 917us/step - loss: 0.2624 - acc: 0.9358 - val_loss: 1.0561 - val_acc: 0.7164\n",
            "Epoch 98/100\n",
            "2569/2569 [==============================] - 2s 914us/step - loss: 0.2571 - acc: 0.9397 - val_loss: 1.1154 - val_acc: 0.7109\n",
            "Epoch 99/100\n",
            "2569/2569 [==============================] - 2s 913us/step - loss: 0.3249 - acc: 0.9218 - val_loss: 1.1864 - val_acc: 0.6927\n",
            "Epoch 100/100\n",
            "2569/2569 [==============================] - 2s 918us/step - loss: 0.3111 - acc: 0.9132 - val_loss: 1.0724 - val_acc: 0.6927\n"
          ],
          "name": "stdout"
        }
      ]
    },
    {
      "cell_type": "code",
      "metadata": {
        "id": "M4JGvSY9jLRZ",
        "colab_type": "code",
        "outputId": "4360ede6-5e22-4da2-e028-3622a4776057",
        "colab": {
          "base_uri": "https://localhost:8080/",
          "height": 895
        }
      },
      "source": [
        "import matplotlib.pyplot as plt\n",
        "print(history.epoch)\n",
        "plt.figure(figsize=(5,3))\n",
        "plt.plot(history.epoch,history.history['loss'])\n",
        "plt.title('loss')\n",
        "\n",
        "plt.figure(figsize=(5,3))\n",
        "plt.plot(history.epoch,history.history['acc'])\n",
        "plt.title('accuracy');\n",
        "\n",
        "plt.figure(figsize=(5,3))\n",
        "plt.plot(history.epoch,history.history['val_acc'])\n",
        "plt.title('val accuracy');\n",
        "\n",
        "plt.figure(figsize=(5,3))\n",
        "plt.plot(history.epoch,history.history['val_loss'])\n",
        "plt.title('val loss');"
      ],
      "execution_count": 0,
      "outputs": [
        {
          "output_type": "stream",
          "text": [
            "[0, 1, 2, 3, 4, 5, 6, 7, 8, 9, 10, 11, 12, 13, 14, 15, 16, 17, 18, 19, 20, 21, 22, 23, 24, 25, 26, 27, 28, 29, 30, 31, 32, 33, 34, 35, 36, 37, 38, 39, 40, 41, 42, 43, 44, 45, 46, 47, 48, 49, 50, 51, 52, 53, 54, 55, 56, 57, 58, 59, 60, 61, 62, 63, 64, 65, 66, 67, 68, 69, 70, 71, 72, 73, 74, 75, 76, 77, 78, 79, 80, 81, 82, 83, 84, 85, 86, 87, 88, 89, 90, 91, 92, 93, 94, 95, 96, 97, 98, 99]\n"
          ],
          "name": "stdout"
        },
        {
          "output_type": "display_data",
          "data": {
            "image/png": "[encoded data removed]",
            "text/plain": [
              "<Figure size 360x216 with 1 Axes>"
            ]
          },
          "metadata": {
            "tags": []
          }
        },
        {
          "output_type": "display_data",
          "data": {
            "image/png": "[encoded data removed]",
            "text/plain": [
              "<Figure size 360x216 with 1 Axes>"
            ]
          },
          "metadata": {
            "tags": []
          }
        },
        {
          "output_type": "display_data",
          "data": {
            "image/png": "[encoded data removed]",
            "text/plain": [
              "<Figure size 360x216 with 1 Axes>"
            ]
          },
          "metadata": {
            "tags": []
          }
        },
        {
          "output_type": "display_data",
          "data": {
            "image/png": "[encoded data removed]",
            "text/plain": [
              "<Figure size 360x216 with 1 Axes>"
            ]
          },
          "metadata": {
            "tags": []
          }
        }
      ]
    },
    {
      "cell_type": "code",
      "metadata": {
        "id": "-DnCJwOqkTal",
        "colab_type": "code",
        "outputId": "8de68dd0-1604-459e-fb14-a7fdf9ab4c68",
        "colab": {
          "base_uri": "https://localhost:8080/",
          "height": 35
        }
      },
      "source": [
        "res = model.evaluate(X_test, Y_test)"
      ],
      "execution_count": 0,
      "outputs": [
        {
          "output_type": "stream",
          "text": [
            "550/550 [==============================] - 1s 2ms/step\n"
          ],
          "name": "stdout"
        }
      ]
    },
    {
      "cell_type": "code",
      "metadata": {
        "id": "GKTShACt0Bo6",
        "colab_type": "code",
        "outputId": "3e9faab8-01ab-4e3b-fa20-c5216b960fc2",
        "colab": {
          "base_uri": "https://localhost:8080/",
          "height": 35
        }
      },
      "source": [
        "res"
      ],
      "execution_count": 0,
      "outputs": [
        {
          "output_type": "execute_result",
          "data": {
            "text/plain": [
              "[1.2677658315138383, 0.7054545452378013]"
            ]
          },
          "metadata": {
            "tags": []
          },
          "execution_count": 69
        }
      ]
    },
    {
      "cell_type": "code",
      "metadata": {
        "id": "IhwEqxcv0Ewc",
        "colab_type": "code",
        "colab": {}
      },
      "source": [
        ""
      ],
      "execution_count": 0,
      "outputs": []
    }
  ]
}